{
 "cells": [
  {
   "cell_type": "code",
   "execution_count": 1,
   "metadata": {
    "scrolled": true
   },
   "outputs": [
    {
     "data": {
      "text/html": [
       "\n",
       "        <iframe\n",
       "            width=\"600\"\n",
       "            height=\"300\"\n",
       "            src=\"homework1.pdf\"\n",
       "            frameborder=\"0\"\n",
       "            allowfullscreen\n",
       "        ></iframe>\n",
       "        "
      ],
      "text/plain": [
       "<IPython.lib.display.IFrame at 0x1db90592828>"
      ]
     },
     "execution_count": 1,
     "metadata": {},
     "output_type": "execute_result"
    }
   ],
   "source": [
    "from IPython.display import IFrame\n",
    "IFrame(\"homework1.pdf\", width=600, height=300)"
   ]
  },
  {
   "cell_type": "code",
   "execution_count": 2,
   "metadata": {},
   "outputs": [],
   "source": [
    "#importing libraries\n",
    "import numpy as np\n",
    "import json\n",
    "from sklearn.linear_model import LinearRegression\n",
    "from sklearn import svm\n",
    "from sklearn.metrics import mean_squared_error as MSE\n",
    "from sklearn.metrics import classification_report\n",
    "from sklearn.metrics import accuracy_score\n",
    "from sklearn.metrics import confusion_matrix\n",
    "from sklearn.metrics import r2_score\n",
    "import warnings\n",
    "warnings.filterwarnings(\"ignore\")\n"
   ]
  },
  {
   "cell_type": "code",
   "execution_count": 3,
   "metadata": {},
   "outputs": [],
   "source": [
    "#utility function for parsing JSONdata\n",
    "def parseData(fname):\n",
    "    for l in fname:\n",
    "        yield eval(l)"
   ]
  },
  {
   "cell_type": "code",
   "execution_count": 4,
   "metadata": {},
   "outputs": [],
   "source": [
    "file = open('beer_50000.json')"
   ]
  },
  {
   "cell_type": "code",
   "execution_count": 5,
   "metadata": {},
   "outputs": [],
   "source": [
    "# loading and parsing JSONdata\n",
    "data  =list(parseData(file))"
   ]
  },
  {
   "cell_type": "code",
   "execution_count": 6,
   "metadata": {},
   "outputs": [
    {
     "data": {
      "text/plain": [
       "{'beer/ABV': 6.2,\n",
       " 'beer/beerId': '48213',\n",
       " 'beer/brewerId': '10325',\n",
       " 'beer/name': 'Red Moon',\n",
       " 'beer/style': 'English Strong Ale',\n",
       " 'review/appearance': 3.0,\n",
       " 'review/aroma': 2.5,\n",
       " 'review/overall': 3.0,\n",
       " 'review/palate': 3.0,\n",
       " 'review/taste': 3.0,\n",
       " 'review/text': 'Dark red color, light beige foam, average.\\tIn the smell malt and caramel, not really light.\\tAgain malt and caramel in the taste, not bad in the end.\\tMaybe a note of honey in teh back, and a light fruitiness.\\tAverage body.\\tIn the aftertaste a light bitterness, with the malt and red fruit.\\tNothing exceptional, but not bad, drinkable beer.',\n",
       " 'review/timeStruct': {'hour': 13,\n",
       "  'isdst': 0,\n",
       "  'mday': 1,\n",
       "  'min': 44,\n",
       "  'mon': 3,\n",
       "  'sec': 57,\n",
       "  'wday': 6,\n",
       "  'yday': 60,\n",
       "  'year': 2009},\n",
       " 'review/timeUnix': 1235915097,\n",
       " 'user/profileName': 'stcules'}"
      ]
     },
     "execution_count": 6,
     "metadata": {},
     "output_type": "execute_result"
    }
   ],
   "source": [
    "data[1]"
   ]
  },
  {
   "cell_type": "code",
   "execution_count": 7,
   "metadata": {},
   "outputs": [
    {
     "data": {
      "text/plain": [
       "list"
      ]
     },
     "execution_count": 7,
     "metadata": {},
     "output_type": "execute_result"
    }
   ],
   "source": [
    "type(data)"
   ]
  },
  {
   "cell_type": "markdown",
   "metadata": {},
   "source": [
    "\n",
    "# Tasks — Regression (week 1):"
   ]
  },
  {
   "cell_type": "markdown",
   "metadata": {},
   "source": [
    "# 1.No of Reviews for each style of beer in the dataset (`beer/style`) ,  \n",
    "#  avg value of `review/taste` for reviews from each style  "
   ]
  },
  {
   "cell_type": "code",
   "execution_count": 8,
   "metadata": {},
   "outputs": [],
   "source": [
    "def avgReview(dict):\n",
    "    total = dict()\n",
    "    freq = dict()\n",
    "    avg = dict()\n",
    "    for dict_ in data:\n",
    "        if dict_['beer/style'] not in total:\n",
    "            total[dict_['beer/style']] = 0\n",
    "            freq[dict_['beer/style']]  = 0\n",
    "            \n",
    "        total[dict_['beer/style']] += dict_['review/taste']\n",
    "        freq [dict_['beer/style']] += 1\n",
    "    for style in total:\n",
    "        avg[style] = round(total[style]/freq[style], 6)\n",
    "    return avg, freq"
   ]
  },
  {
   "cell_type": "code",
   "execution_count": 9,
   "metadata": {},
   "outputs": [],
   "source": [
    "avg ,freq = avgReview(dict)"
   ]
  },
  {
   "cell_type": "code",
   "execution_count": 10,
   "metadata": {
    "scrolled": true
   },
   "outputs": [
    {
     "data": {
      "text/plain": [
       "{'Altbier': 165,\n",
       " 'American Adjunct Lager': 242,\n",
       " 'American Amber / Red Ale': 665,\n",
       " 'American Amber / Red Lager': 42,\n",
       " 'American Barleywine': 825,\n",
       " 'American Black Ale': 138,\n",
       " 'American Blonde Ale': 357,\n",
       " 'American Brown Ale': 314,\n",
       " 'American Dark Wheat Ale': 14,\n",
       " 'American Double / Imperial IPA': 3886,\n",
       " 'American Double / Imperial Pilsner': 14,\n",
       " 'American Double / Imperial Stout': 5964,\n",
       " 'American IPA': 4113,\n",
       " 'American Malt Liquor': 90,\n",
       " 'American Pale Ale (APA)': 2288,\n",
       " 'American Pale Lager': 123,\n",
       " 'American Pale Wheat Ale': 154,\n",
       " 'American Porter': 2230,\n",
       " 'American Stout': 591,\n",
       " 'American Strong Ale': 166,\n",
       " 'American Wild Ale': 98,\n",
       " 'Baltic Porter': 514,\n",
       " 'Belgian Dark Ale': 175,\n",
       " 'Belgian IPA': 128,\n",
       " 'Belgian Pale Ale': 144,\n",
       " 'Belgian Strong Dark Ale': 146,\n",
       " 'Belgian Strong Pale Ale': 632,\n",
       " 'Berliner Weissbier': 10,\n",
       " 'BiÃ¨re de Garde': 7,\n",
       " 'Black & Tan': 122,\n",
       " 'Bock': 148,\n",
       " 'Braggot': 26,\n",
       " 'California Common / Steam Beer': 11,\n",
       " 'Chile Beer': 11,\n",
       " 'Cream Ale': 69,\n",
       " 'Czech Pilsener': 1501,\n",
       " 'Doppelbock': 873,\n",
       " 'Dortmunder / Export Lager': 31,\n",
       " 'Dubbel': 165,\n",
       " 'Dunkelweizen': 61,\n",
       " 'Eisbock': 8,\n",
       " 'English Barleywine': 133,\n",
       " 'English Bitter': 267,\n",
       " 'English Brown Ale': 495,\n",
       " 'English Dark Mild Ale': 21,\n",
       " 'English India Pale Ale (IPA)': 175,\n",
       " 'English Pale Ale': 1324,\n",
       " 'English Pale Mild Ale': 21,\n",
       " 'English Porter': 367,\n",
       " 'English Stout': 136,\n",
       " 'English Strong Ale': 164,\n",
       " 'Euro Dark Lager': 144,\n",
       " 'Euro Pale Lager': 701,\n",
       " 'Euro Strong Lager': 329,\n",
       " 'Extra Special / Strong Bitter (ESB)': 667,\n",
       " 'Flanders Oud Bruin': 13,\n",
       " 'Flanders Red Ale': 2,\n",
       " 'Foreign / Export Stout': 55,\n",
       " 'Fruit / Vegetable Beer': 1355,\n",
       " 'German Pilsener': 586,\n",
       " 'Hefeweizen': 618,\n",
       " 'Herbed / Spiced Beer': 73,\n",
       " 'Irish Dry Stout': 101,\n",
       " 'Irish Red Ale': 83,\n",
       " 'Keller Bier / Zwickel Bier': 23,\n",
       " 'Kristalweizen': 7,\n",
       " 'KÃ¶lsch': 94,\n",
       " 'Lambic - Fruit': 6,\n",
       " 'Lambic - Unblended': 10,\n",
       " 'Light Lager': 503,\n",
       " 'Low Alcohol Beer': 7,\n",
       " 'Maibock / Helles Bock': 225,\n",
       " 'Milk / Sweet Stout': 69,\n",
       " 'Munich Dunkel Lager': 141,\n",
       " 'Munich Helles Lager': 650,\n",
       " 'MÃ¤rzen / Oktoberfest': 557,\n",
       " 'Oatmeal Stout': 102,\n",
       " 'Old Ale': 1052,\n",
       " 'Pumpkin Ale': 560,\n",
       " 'Quadrupel (Quad)': 119,\n",
       " 'Rauchbier': 1938,\n",
       " 'Russian Imperial Stout': 2695,\n",
       " 'Rye Beer': 1798,\n",
       " 'Saison / Farmhouse Ale': 141,\n",
       " 'Schwarzbier': 53,\n",
       " 'Scotch Ale / Wee Heavy': 2776,\n",
       " 'Scottish Ale': 78,\n",
       " 'Scottish Gruit / Ancient Herbed Ale': 65,\n",
       " 'Smoked Beer': 61,\n",
       " 'Tripel': 257,\n",
       " 'Vienna Lager': 33,\n",
       " 'Weizenbock': 13,\n",
       " 'Wheatwine': 455,\n",
       " 'Winter Warmer': 259,\n",
       " 'Witbier': 162}"
      ]
     },
     "execution_count": 10,
     "metadata": {},
     "output_type": "execute_result"
    }
   ],
   "source": [
    "freq"
   ]
  },
  {
   "cell_type": "code",
   "execution_count": 11,
   "metadata": {
    "scrolled": true
   },
   "outputs": [
    {
     "data": {
      "text/plain": [
       "{'Altbier': 3.40303,\n",
       " 'American Adjunct Lager': 2.948347,\n",
       " 'American Amber / Red Ale': 3.513534,\n",
       " 'American Amber / Red Lager': 3.690476,\n",
       " 'American Barleywine': 4.064242,\n",
       " 'American Black Ale': 3.873188,\n",
       " 'American Blonde Ale': 3.254902,\n",
       " 'American Brown Ale': 3.743631,\n",
       " 'American Dark Wheat Ale': 3.678571,\n",
       " 'American Double / Imperial IPA': 4.033325,\n",
       " 'American Double / Imperial Pilsner': 3.821429,\n",
       " 'American Double / Imperial Stout': 4.479963,\n",
       " 'American IPA': 4.000851,\n",
       " 'American Malt Liquor': 2.255556,\n",
       " 'American Pale Ale (APA)': 3.649694,\n",
       " 'American Pale Lager': 3.215447,\n",
       " 'American Pale Wheat Ale': 3.334416,\n",
       " 'American Porter': 4.081839,\n",
       " 'American Stout': 3.819797,\n",
       " 'American Strong Ale': 3.569277,\n",
       " 'American Wild Ale': 4.188776,\n",
       " 'Baltic Porter': 4.213035,\n",
       " 'Belgian Dark Ale': 3.34,\n",
       " 'Belgian IPA': 3.949219,\n",
       " 'Belgian Pale Ale': 3.739583,\n",
       " 'Belgian Strong Dark Ale': 3.695205,\n",
       " 'Belgian Strong Pale Ale': 4.056171,\n",
       " 'Berliner Weissbier': 3.55,\n",
       " 'BiÃ¨re de Garde': 3.928571,\n",
       " 'Black & Tan': 3.942623,\n",
       " 'Bock': 3.189189,\n",
       " 'Braggot': 3.807692,\n",
       " 'California Common / Steam Beer': 3.318182,\n",
       " 'Chile Beer': 3.954545,\n",
       " 'Cream Ale': 3.028986,\n",
       " 'Czech Pilsener': 3.609594,\n",
       " 'Doppelbock': 3.982818,\n",
       " 'Dortmunder / Export Lager': 3.419355,\n",
       " 'Dubbel': 3.736364,\n",
       " 'Dunkelweizen': 3.491803,\n",
       " 'Eisbock': 3.75,\n",
       " 'English Barleywine': 4.360902,\n",
       " 'English Bitter': 3.537453,\n",
       " 'English Brown Ale': 3.728283,\n",
       " 'English Dark Mild Ale': 3.785714,\n",
       " 'English India Pale Ale (IPA)': 3.471429,\n",
       " 'English Pale Ale': 3.483761,\n",
       " 'English Pale Mild Ale': 3.595238,\n",
       " 'English Porter': 3.707084,\n",
       " 'English Stout': 3.599265,\n",
       " 'English Strong Ale': 3.756098,\n",
       " 'Euro Dark Lager': 3.704861,\n",
       " 'Euro Pale Lager': 2.96291,\n",
       " 'Euro Strong Lager': 2.848024,\n",
       " 'Extra Special / Strong Bitter (ESB)': 3.685157,\n",
       " 'Flanders Oud Bruin': 3.923077,\n",
       " 'Flanders Red Ale': 3.25,\n",
       " 'Foreign / Export Stout': 3.254545,\n",
       " 'Fruit / Vegetable Beer': 3.607749,\n",
       " 'German Pilsener': 3.667235,\n",
       " 'Hefeweizen': 3.635113,\n",
       " 'Herbed / Spiced Beer': 3.445205,\n",
       " 'Irish Dry Stout': 3.623762,\n",
       " 'Irish Red Ale': 2.981928,\n",
       " 'Keller Bier / Zwickel Bier': 3.869565,\n",
       " 'Kristalweizen': 2.785714,\n",
       " 'KÃ¶lsch': 3.696809,\n",
       " 'Lambic - Fruit': 3.75,\n",
       " 'Lambic - Unblended': 3.3,\n",
       " 'Light Lager': 2.39662,\n",
       " 'Low Alcohol Beer': 2.714286,\n",
       " 'Maibock / Helles Bock': 3.746667,\n",
       " 'Milk / Sweet Stout': 3.782609,\n",
       " 'Munich Dunkel Lager': 3.780142,\n",
       " 'Munich Helles Lager': 3.959231,\n",
       " 'MÃ¤rzen / Oktoberfest': 3.593357,\n",
       " 'Oatmeal Stout': 3.77451,\n",
       " 'Old Ale': 4.096008,\n",
       " 'Pumpkin Ale': 3.7875,\n",
       " 'Quadrupel (Quad)': 3.596639,\n",
       " 'Rauchbier': 4.067853,\n",
       " 'Russian Imperial Stout': 4.300371,\n",
       " 'Rye Beer': 4.213571,\n",
       " 'Saison / Farmhouse Ale': 3.702128,\n",
       " 'Schwarzbier': 3.622642,\n",
       " 'Scotch Ale / Wee Heavy': 4.083393,\n",
       " 'Scottish Ale': 3.762821,\n",
       " 'Scottish Gruit / Ancient Herbed Ale': 3.907692,\n",
       " 'Smoked Beer': 3.196721,\n",
       " 'Tripel': 3.784047,\n",
       " 'Vienna Lager': 3.530303,\n",
       " 'Weizenbock': 3.384615,\n",
       " 'Wheatwine': 4.186813,\n",
       " 'Winter Warmer': 3.621622,\n",
       " 'Witbier': 3.527778}"
      ]
     },
     "execution_count": 11,
     "metadata": {},
     "output_type": "execute_result"
    }
   ],
   "source": [
    "avg"
   ]
  },
  {
   "cell_type": "markdown",
   "metadata": {},
   "source": [
    "# 2. Simple predictor with a single binary feature indicating whether a beer is an `American IPA`"
   ]
  },
  {
   "cell_type": "code",
   "execution_count": 12,
   "metadata": {},
   "outputs": [],
   "source": [
    "X = []\n",
    "y = []\n",
    "for d in data:\n",
    "    if d['beer/style'] == 'American IPA':\n",
    "        X.append([1, 1])\n",
    "    else:\n",
    "        X.append([1, 0])\n",
    "    y.append(d['review/taste'])"
   ]
  },
  {
   "cell_type": "code",
   "execution_count": 13,
   "metadata": {},
   "outputs": [],
   "source": [
    "X = np.array(X)\n",
    "y = np.array(y)\n"
   ]
  },
  {
   "cell_type": "code",
   "execution_count": 14,
   "metadata": {},
   "outputs": [],
   "source": [
    "theta, reiduals, rank, s = np.linalg.lstsq(X, y)"
   ]
  },
  {
   "cell_type": "code",
   "execution_count": 15,
   "metadata": {},
   "outputs": [
    {
     "data": {
      "text/plain": [
       "(3.9152047420838927, 0.08564621828574305)"
      ]
     },
     "execution_count": 15,
     "metadata": {},
     "output_type": "execute_result"
    }
   ],
   "source": [
    "theta[0], theta[1]\n"
   ]
  },
  {
   "cell_type": "markdown",
   "metadata": {},
   "source": [
    "theta[0] represent the y-intercept of the regression line\n",
    "\n",
    "theta[1] represent the slope of the regression line"
   ]
  },
  {
   "cell_type": "markdown",
   "metadata": {},
   "source": [
    "# 3.  Splitting the data into train-test sets , Finding MSE on training and testing set"
   ]
  },
  {
   "cell_type": "code",
   "execution_count": 16,
   "metadata": {},
   "outputs": [
    {
     "data": {
      "text/plain": [
       "(50000, 2)"
      ]
     },
     "execution_count": 16,
     "metadata": {},
     "output_type": "execute_result"
    }
   ],
   "source": [
    "X.shape"
   ]
  },
  {
   "cell_type": "code",
   "execution_count": 17,
   "metadata": {},
   "outputs": [
    {
     "data": {
      "text/plain": [
       "(50000,)"
      ]
     },
     "execution_count": 17,
     "metadata": {},
     "output_type": "execute_result"
    }
   ],
   "source": [
    "y.shape"
   ]
  },
  {
   "cell_type": "code",
   "execution_count": 18,
   "metadata": {},
   "outputs": [],
   "source": [
    "X_train, X_test = X[:int(len(X)/2),1:], X[int(len(X)/2):,1:]"
   ]
  },
  {
   "cell_type": "code",
   "execution_count": 19,
   "metadata": {},
   "outputs": [],
   "source": [
    "y_train, y_test = y[:int(len(X)/2)], y[int(len(X)/2):]"
   ]
  },
  {
   "cell_type": "code",
   "execution_count": 20,
   "metadata": {},
   "outputs": [
    {
     "name": "stdout",
     "output_type": "stream",
     "text": [
      "coeficients:  [0.05606027]\n",
      "intercept:  3.9043563922942206\n",
      "MSE on train set:  0.558107286558669\n",
      "MSE on test set:  0.46841005096664573\n",
      "r2_score on train set: 0.0004442931134949202\n",
      "r2_score on test set: 7.227980262203282e-05\n"
     ]
    }
   ],
   "source": [
    "# linear Regression\n",
    "reg = LinearRegression()\n",
    "reg.fit(X_train, y_train)\n",
    "print(\"coeficients: \",reg.coef_)\n",
    "print(\"intercept: \",reg.intercept_)\n",
    "print(\"MSE on train set: \",MSE(y_train, reg.predict(X_train)) )\n",
    "print(\"MSE on test set: \",MSE(y_test, reg.predict(X_test)))\n",
    "print(\"r2_score on train set:\",r2_score(y_train, reg.predict(X_train)) )\n",
    "print(\"r2_score on test set:\",r2_score(y_test, reg.predict(X_test)) )"
   ]
  },
  {
   "cell_type": "markdown",
   "metadata": {},
   "source": [
    "# 4. Extending the above model , incorporating binary features for every style of beer with ≥ 50 reviews"
   ]
  },
  {
   "cell_type": "code",
   "execution_count": 21,
   "metadata": {},
   "outputs": [
    {
     "name": "stdout",
     "output_type": "stream",
     "text": [
      "beer styles with reviews count > 50 are : 74\n"
     ]
    }
   ],
   "source": [
    "beer_rev50 = []\n",
    "for beer_style in freq.keys():\n",
    "    if freq[beer_style] > 50:\n",
    "        beer_rev50.append(beer_style)\n",
    "        \n",
    "print( \"beer styles with reviews count > 50 are :\",len(beer_rev50))\n",
    "X = []\n",
    "y = []\n",
    "for d in data:\n",
    "    x = []\n",
    "    for beer in beer_rev50:\n",
    "        x.append( d['beer/style'] == beer )\n",
    "    X.append(x)\n",
    "    y.append(d['review/taste'])\n"
   ]
  },
  {
   "cell_type": "code",
   "execution_count": 22,
   "metadata": {},
   "outputs": [],
   "source": [
    "X = np.array(X)\n",
    "y = np.array(y)"
   ]
  },
  {
   "cell_type": "code",
   "execution_count": 23,
   "metadata": {},
   "outputs": [
    {
     "data": {
      "text/plain": [
       "((50000, 74), (50000,))"
      ]
     },
     "execution_count": 23,
     "metadata": {},
     "output_type": "execute_result"
    }
   ],
   "source": [
    "X.shape, y.shape"
   ]
  },
  {
   "cell_type": "code",
   "execution_count": 24,
   "metadata": {},
   "outputs": [],
   "source": [
    "X_train, X_test = X[:int(len(X)/2),:], X[int(len(X)/2):,:]"
   ]
  },
  {
   "cell_type": "code",
   "execution_count": 25,
   "metadata": {},
   "outputs": [],
   "source": [
    "y_train, y_test = y[:int(len(X)/2)], y[int(len(X)/2):]"
   ]
  },
  {
   "cell_type": "code",
   "execution_count": 26,
   "metadata": {},
   "outputs": [
    {
     "name": "stdout",
     "output_type": "stream",
     "text": [
      "coeficients:  [ 0.69564175  0.1527972  -0.2937747   0.01699134 -0.35681818  0.71136364\n",
      " -0.17824675 -0.31931818 -0.50681818  0.11433566 -0.73802386  0.35359848\n",
      "  0.10049889 -1.23390152  0.65508658  0.33580477 -0.18884943 -0.22045455\n",
      "  0.3305986  -0.41285266 -0.09003966  0.46842454  0.48544372 -0.0058248\n",
      " -0.62765152  0.20984848  0.33596789 -0.58598485  0.60472028  0.44318182\n",
      " -0.02450111 -0.10223103  0.12395105  0.01818182 -0.63806818  0.20312334\n",
      "  0.12651515  0.12193999  0.45638407  0.03420746 -0.45410882  0.22651515\n",
      "  0.8416167  -0.20681818  0.58195733  0.3449362  -0.4664673   0.25681818\n",
      " -0.27061129  0.3763751   0.19621212 -0.1798951  -0.10681818  0.26761104\n",
      " -0.65227273  0.02739474  0.13786267  0.05895722  0.26709486  0.11320382\n",
      " -1.00681818 -0.83277972  0.09815076 -0.74318182  0.26818182 -0.13106061\n",
      "  0.76540404  0.14466111 -0.11634199  0.39318182 -0.92019846 -0.38622995\n",
      "  0.38356643  0.16385851]\n",
      "intercept:  3.606818181818179\n",
      "MSE on training set:  0.36784027709014444\n",
      "MSE on testing set:  0.4336695104199656\n",
      "r2_score on train set: 0.341207583123865\n",
      "r2_score on test set: 0.07423385988737574\n"
     ]
    }
   ],
   "source": [
    "# linear Regression\n",
    "reg = LinearRegression()\n",
    "reg.fit(X_train, y_train)\n",
    "print(\"coeficients: \",reg.coef_)\n",
    "print(\"intercept: \",reg.intercept_)\n",
    "print(\"MSE on training set: \",MSE(y_train, reg.predict(X_train)) )\n",
    "print(\"MSE on testing set: \",MSE(y_test, reg.predict(X_test)) )\n",
    "print(\"r2_score on train set:\",r2_score(y_train, reg.predict(X_train)) )\n",
    "print(\"r2_score on test set:\",r2_score(y_test, reg.predict(X_test)) )"
   ]
  },
  {
   "cell_type": "markdown",
   "metadata": {},
   "source": [
    "# Tasks — Classification (week 2):"
   ]
  },
  {
   "cell_type": "markdown",
   "metadata": {},
   "source": [
    "# 5. Training a predictor that estimates whether a beer is an `American IPA` using two features:\n",
    "[`beer/ABV`,`review/taste`]"
   ]
  },
  {
   "cell_type": "code",
   "execution_count": 27,
   "metadata": {},
   "outputs": [],
   "source": [
    "def generateFeatures(data):\n",
    "    X = []\n",
    "    y = []\n",
    "    for d in data:\n",
    "        X.append([d['beer/ABV'], d['review/taste']])\n",
    "        y.append(d['beer/style'] == 'American IPA')\n",
    "    return X, y"
   ]
  },
  {
   "cell_type": "code",
   "execution_count": 28,
   "metadata": {},
   "outputs": [],
   "source": [
    "X , y = generateFeatures(data)"
   ]
  },
  {
   "cell_type": "code",
   "execution_count": 29,
   "metadata": {},
   "outputs": [
    {
     "data": {
      "text/plain": [
       "(50000, 50000)"
      ]
     },
     "execution_count": 29,
     "metadata": {},
     "output_type": "execute_result"
    }
   ],
   "source": [
    "len(X), len(y)"
   ]
  },
  {
   "cell_type": "code",
   "execution_count": 30,
   "metadata": {},
   "outputs": [],
   "source": [
    "X_train, X_test = X[:int(len(X)/2)], X[int(len(X)/2):]"
   ]
  },
  {
   "cell_type": "code",
   "execution_count": 31,
   "metadata": {},
   "outputs": [],
   "source": [
    "y_train, y_test = y[:int(len(y)/2)], y[int(len(y)/2):]"
   ]
  },
  {
   "cell_type": "code",
   "execution_count": 32,
   "metadata": {},
   "outputs": [
    {
     "data": {
      "text/plain": [
       "SVC(C=1000, cache_size=200, class_weight=None, coef0=0.0,\n",
       "  decision_function_shape='ovr', degree=3, gamma='auto', kernel='rbf',\n",
       "  max_iter=-1, probability=False, random_state=None, shrinking=True,\n",
       "  tol=0.001, verbose=False)"
      ]
     },
     "execution_count": 32,
     "metadata": {},
     "output_type": "execute_result"
    }
   ],
   "source": [
    "clf = svm.SVC(C=1000)\n",
    "clf.fit(X_train, y_train)"
   ]
  },
  {
   "cell_type": "code",
   "execution_count": 33,
   "metadata": {},
   "outputs": [
    {
     "name": "stdout",
     "output_type": "stream",
     "text": [
      "Train set accuracy score :  0.9226\n",
      "confusion matrix :\n",
      " [[22594   246]\n",
      " [ 1689   471]]\n",
      "classification report :\n",
      "              precision    recall  f1-score   support\n",
      "\n",
      "      False       0.93      0.99      0.96     22840\n",
      "       True       0.66      0.22      0.33      2160\n",
      "\n",
      "avg / total       0.91      0.92      0.90     25000\n",
      "\n"
     ]
    }
   ],
   "source": [
    "y_pred = clf.predict(X_train)\n",
    "train_acc = accuracy_score(y_train, y_pred )\n",
    "print(\"Train set accuracy score : \", train_acc )\n",
    "print(\"confusion matrix :\\n\", confusion_matrix(y_train, y_pred))\n",
    "print(\"classification report :\\n\",classification_report(y_train, y_pred))"
   ]
  },
  {
   "cell_type": "code",
   "execution_count": 34,
   "metadata": {},
   "outputs": [
    {
     "name": "stdout",
     "output_type": "stream",
     "text": [
      "Test set accuracy score : 0.85632\n",
      "confusion matrix : \n",
      " [[21364  1683]\n",
      " [ 1909    44]]\n",
      "classification report :\n",
      "              precision    recall  f1-score   support\n",
      "\n",
      "      False       0.92      0.93      0.92     23047\n",
      "       True       0.03      0.02      0.02      1953\n",
      "\n",
      "avg / total       0.85      0.86      0.85     25000\n",
      "\n"
     ]
    }
   ],
   "source": [
    "y_pred = clf.predict(X_test)\n",
    "test_acc = accuracy_score(y_test, y_pred)\n",
    "print(\"Test set accuracy score :\", test_acc )\n",
    "print(\"confusion matrix : \\n\",confusion_matrix(y_test, y_pred))\n",
    "print(\"classification report :\\n\",classification_report(y_test, y_pred))"
   ]
  },
  {
   "cell_type": "markdown",
   "metadata": {},
   "source": [
    "# 6. Feature Engineering using common words in `review/text` of   `American IPA`"
   ]
  },
  {
   "cell_type": "code",
   "execution_count": 35,
   "metadata": {},
   "outputs": [],
   "source": [
    "import nltk\n",
    "from nltk.corpus import stopwords\n",
    "from nltk.tokenize import RegexpTokenizer"
   ]
  },
  {
   "cell_type": "code",
   "execution_count": 36,
   "metadata": {},
   "outputs": [],
   "source": [
    "textRevAmericanIPA = []\n",
    "for d in data:\n",
    "    if d['beer/style'] == 'American IPA':\n",
    "        textRevAmericanIPA.append(d['review/text'])\n"
   ]
  },
  {
   "cell_type": "code",
   "execution_count": 37,
   "metadata": {},
   "outputs": [],
   "source": [
    "tokenizer = RegexpTokenizer(r'\\w+')\n",
    "tokens = []\n",
    "for text in textRevAmericanIPA:\n",
    "    tokens += tokenizer.tokenize(text)\n",
    "    "
   ]
  },
  {
   "cell_type": "code",
   "execution_count": 38,
   "metadata": {},
   "outputs": [],
   "source": [
    "stop_words = set(stopwords.words('english'))\n",
    "all_words = [w for w in tokens if not w in stop_words and len(w) > 2]"
   ]
  },
  {
   "cell_type": "code",
   "execution_count": 39,
   "metadata": {},
   "outputs": [],
   "source": [
    "freqDist = nltk.FreqDist(all_words)"
   ]
  },
  {
   "cell_type": "code",
   "execution_count": 40,
   "metadata": {},
   "outputs": [
    {
     "data": {
      "text/plain": [
       "[('hops', 4686),\n",
       " ('head', 3942),\n",
       " ('The', 3872),\n",
       " ('beer', 3804),\n",
       " ('IPA', 3663),\n",
       " ('hop', 3343),\n",
       " ('malt', 3117),\n",
       " ('nice', 2959),\n",
       " ('citrus', 2865),\n",
       " ('good', 2613),\n",
       " ('one', 2040),\n",
       " ('like', 1916),\n",
       " ('orange', 1916),\n",
       " ('white', 1876),\n",
       " ('carbonation', 1825),\n",
       " ('color', 1799),\n",
       " ('glass', 1799),\n",
       " ('taste', 1772),\n",
       " ('This', 1760),\n",
       " ('grapefruit', 1754),\n",
       " ('well', 1745),\n",
       " ('bitterness', 1734),\n",
       " ('pine', 1700),\n",
       " ('bitter', 1695),\n",
       " ('bit', 1690),\n",
       " ('flavor', 1684),\n",
       " ('light', 1660),\n",
       " ('lacing', 1660),\n",
       " ('finish', 1543),\n",
       " ('aroma', 1541),\n",
       " ('sweet', 1508),\n",
       " ('little', 1448),\n",
       " ('amber', 1339),\n",
       " ('caramel', 1319),\n",
       " ('body', 1292),\n",
       " ('Very', 1235),\n",
       " ('medium', 1179),\n",
       " ('bottle', 1151),\n",
       " ('Pours', 1141),\n",
       " ('floral', 1132),\n",
       " ('hoppy', 1102),\n",
       " ('great', 1048),\n",
       " ('nose', 1044),\n",
       " ('really', 1036),\n",
       " ('balanced', 1029),\n",
       " ('notes', 1014),\n",
       " ('smell', 951),\n",
       " ('dry', 926),\n",
       " ('fresh', 915),\n",
       " ('would', 909)]"
      ]
     },
     "execution_count": 40,
     "metadata": {},
     "output_type": "execute_result"
    }
   ],
   "source": [
    "freqDist.most_common(50)"
   ]
  },
  {
   "cell_type": "markdown",
   "metadata": {},
   "source": [
    "feat = ['citrus', 'IPA', 'bitter', 'grapefruit','caramel']\n"
   ]
  },
  {
   "cell_type": "code",
   "execution_count": 41,
   "metadata": {},
   "outputs": [],
   "source": [
    "def genCustomFeatures(data):\n",
    "    X = []\n",
    "    y = []\n",
    "    feat = ['citrus', 'IPA', 'bitter', 'grapefruit','caramel']\n",
    "    for  d in data:\n",
    "        X.append([d['beer/ABV'], feat[0] in d['review/text'], feat[1] in d['review/text'], feat[2] in d['review/text'], feat[3] in d['review/text'], feat[4] in d['review/text'] ])\n",
    "        y.append(d['beer/style'] == 'American IPA')\n",
    "    return X, y    "
   ]
  },
  {
   "cell_type": "code",
   "execution_count": 42,
   "metadata": {},
   "outputs": [],
   "source": [
    "X , y = genCustomFeatures(data)"
   ]
  },
  {
   "cell_type": "code",
   "execution_count": 43,
   "metadata": {},
   "outputs": [],
   "source": [
    "X = np.array(X)\n",
    "y = np.array(y)"
   ]
  },
  {
   "cell_type": "code",
   "execution_count": 44,
   "metadata": {},
   "outputs": [],
   "source": [
    "X_train, X_test = X[:int(len(X)/2),:], X[int(len(X)/2):, :]"
   ]
  },
  {
   "cell_type": "code",
   "execution_count": 45,
   "metadata": {},
   "outputs": [],
   "source": [
    "y_train, y_test = y[:int(len(X)/2)], y[int(len(X)/2):]"
   ]
  },
  {
   "cell_type": "code",
   "execution_count": 46,
   "metadata": {},
   "outputs": [
    {
     "data": {
      "text/plain": [
       "SVC(C=1000, cache_size=200, class_weight=None, coef0=0.0,\n",
       "  decision_function_shape='ovr', degree=3, gamma='auto', kernel='rbf',\n",
       "  max_iter=-1, probability=False, random_state=None, shrinking=True,\n",
       "  tol=0.001, verbose=False)"
      ]
     },
     "execution_count": 46,
     "metadata": {},
     "output_type": "execute_result"
    }
   ],
   "source": [
    "clf2 = svm.SVC(C=1000)\n",
    "clf2.fit(X_train, y_train)"
   ]
  },
  {
   "cell_type": "code",
   "execution_count": 47,
   "metadata": {},
   "outputs": [
    {
     "name": "stdout",
     "output_type": "stream",
     "text": [
      "Train set accuracy score :  0.96312\n",
      "confusion matrix :\n",
      " [[22370   470]\n",
      " [  452  1708]]\n",
      "classification report :\n",
      "              precision    recall  f1-score   support\n",
      "\n",
      "      False       0.98      0.98      0.98     22840\n",
      "       True       0.78      0.79      0.79      2160\n",
      "\n",
      "avg / total       0.96      0.96      0.96     25000\n",
      "\n"
     ]
    }
   ],
   "source": [
    "y_pred = clf2.predict(X_train)\n",
    "train_acc = accuracy_score(y_train, y_pred )\n",
    "print(\"Train set accuracy score : \", train_acc )\n",
    "print(\"confusion matrix :\\n\", confusion_matrix(y_train, y_pred))\n",
    "print(\"classification report :\\n\",classification_report(y_train, y_pred))"
   ]
  },
  {
   "cell_type": "code",
   "execution_count": 48,
   "metadata": {},
   "outputs": [
    {
     "name": "stdout",
     "output_type": "stream",
     "text": [
      "Test set accuracy score : 0.93004\n",
      "confusion matrix : \n",
      " [[21748  1299]\n",
      " [  450  1503]]\n",
      "classification report :\n",
      "              precision    recall  f1-score   support\n",
      "\n",
      "      False       0.98      0.94      0.96     23047\n",
      "       True       0.54      0.77      0.63      1953\n",
      "\n",
      "avg / total       0.95      0.93      0.94     25000\n",
      "\n"
     ]
    }
   ],
   "source": [
    "y_pred = clf2.predict(X_test)\n",
    "test_acc = accuracy_score(y_test, y_pred)\n",
    "print(\"Test set accuracy score :\", test_acc )\n",
    "print(\"confusion matrix : \\n\",confusion_matrix(y_test, y_pred))\n",
    "print(\"classification report :\\n\",classification_report(y_test, y_pred))"
   ]
  },
  {
   "cell_type": "markdown",
   "metadata": {},
   "source": [
    "# 7. Effect  of  regularization  constant C  on SVM  performance \n",
    "  C\n",
    "∈ [0.1,10,1000,100000]"
   ]
  },
  {
   "cell_type": "code",
   "execution_count": 49,
   "metadata": {},
   "outputs": [
    {
     "name": "stdout",
     "output_type": "stream",
     "text": [
      "C :  0.1 \t train set accuracy :  0.95264 \t test set accuracy :  0.94448 \n",
      "\n",
      "C :  10 \t train set accuracy :  0.96128 \t test set accuracy :  0.93552 \n",
      "\n",
      "C :  1000 \t train set accuracy :  0.96312 \t test set accuracy :  0.93004 \n",
      "\n",
      "C :  100000 \t train set accuracy :  0.964 \t test set accuracy :  0.92588 \n",
      "\n"
     ]
    }
   ],
   "source": [
    "for c in [0.1, 10, 1000, 100000 ]:\n",
    "    clf3 = svm.SVC(C=c)\n",
    "    clf3.fit(X_train, y_train)\n",
    "    y_pred = clf3.predict(X_train)\n",
    "    train_acc = accuracy_score(y_train, y_pred)\n",
    "    \n",
    "    y_pred = clf3.predict(X_test)\n",
    "    test_acc = accuracy_score(y_test, y_pred)\n",
    "    print(\"C : \", c,'\\t', \"train set accuracy : \", train_acc,\"\\ttest set accuracy : \", test_acc,\"\\n\")\n",
    "    "
   ]
  },
  {
   "cell_type": "code",
   "execution_count": null,
   "metadata": {},
   "outputs": [],
   "source": []
  }
 ],
 "metadata": {
  "kernelspec": {
   "display_name": "Python [default]",
   "language": "python",
   "name": "python3"
  },
  "language_info": {
   "codemirror_mode": {
    "name": "ipython",
    "version": 3
   },
   "file_extension": ".py",
   "mimetype": "text/x-python",
   "name": "python",
   "nbconvert_exporter": "python",
   "pygments_lexer": "ipython3",
   "version": "3.5.5"
  }
 },
 "nbformat": 4,
 "nbformat_minor": 2
}
