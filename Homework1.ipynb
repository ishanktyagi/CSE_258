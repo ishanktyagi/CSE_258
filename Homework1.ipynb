{
 "cells": [
  {
   "cell_type": "code",
   "execution_count": 12,
   "metadata": {},
   "outputs": [
    {
     "data": {
      "text/html": [
       "\n",
       "        <iframe\n",
       "            width=\"600\"\n",
       "            height=\"300\"\n",
       "            src=\"homework1.pdf\"\n",
       "            frameborder=\"0\"\n",
       "            allowfullscreen\n",
       "        ></iframe>\n",
       "        "
      ],
      "text/plain": [
       "<IPython.lib.display.IFrame at 0x20434139780>"
      ]
     },
     "execution_count": 12,
     "metadata": {},
     "output_type": "execute_result"
    }
   ],
   "source": [
    "from IPython.display import IFrame\n",
    "IFrame(\"homework1.pdf\", width=600, height=300)"
   ]
  },
  {
   "cell_type": "code",
   "execution_count": 2,
   "metadata": {},
   "outputs": [],
   "source": [
    "#importing libraries\n",
    "import numpy as np\n",
    "import json"
   ]
  },
  {
   "cell_type": "code",
   "execution_count": 7,
   "metadata": {},
   "outputs": [],
   "source": [
    "#utility function for parsing JSONdata\n",
    "def parseData(fname):\n",
    "    for l in fname:\n",
    "        yield eval(l)"
   ]
  },
  {
   "cell_type": "code",
   "execution_count": 6,
   "metadata": {},
   "outputs": [],
   "source": [
    "file = open('beer_50000.json')"
   ]
  },
  {
   "cell_type": "code",
   "execution_count": 8,
   "metadata": {},
   "outputs": [],
   "source": [
    "# loading and parsing JSONdata\n",
    "data  =list(parseData(file))"
   ]
  },
  {
   "cell_type": "code",
   "execution_count": 9,
   "metadata": {},
   "outputs": [
    {
     "data": {
      "text/plain": [
       "list"
      ]
     },
     "execution_count": 9,
     "metadata": {},
     "output_type": "execute_result"
    }
   ],
   "source": [
    "type(data)"
   ]
  },
  {
   "cell_type": "markdown",
   "metadata": {},
   "source": [
    "\n",
    "# Tasks — Regression (week 1):"
   ]
  },
  {
   "cell_type": "markdown",
   "metadata": {},
   "source": [
    "1.No of Reviews for each style of beer in the dataset (`beer/style`)"
   ]
  },
  {
   "cell_type": "code",
   "execution_count": 25,
   "metadata": {},
   "outputs": [],
   "source": [
    "def countFreqOfBeerStyles(list_of_dict):\n",
    "    freq = dict()\n",
    "    for dict_ in list_of_dict:\n",
    "        if dict_['beer/style'] not in freq:\n",
    "            freq[dict_['beer/style']] = 0\n",
    "        freq[dict_['beer/style']] += 1\n",
    "    return freq"
   ]
  },
  {
   "cell_type": "code",
   "execution_count": 26,
   "metadata": {},
   "outputs": [],
   "source": [
    "freq_styles = countFreqOfBeerStyles(data)"
   ]
  },
  {
   "cell_type": "code",
   "execution_count": 29,
   "metadata": {},
   "outputs": [
    {
     "data": {
      "text/plain": [
       "{'Altbier': 165,\n",
       " 'American Adjunct Lager': 242,\n",
       " 'American Amber / Red Ale': 665,\n",
       " 'American Amber / Red Lager': 42,\n",
       " 'American Barleywine': 825,\n",
       " 'American Black Ale': 138,\n",
       " 'American Blonde Ale': 357,\n",
       " 'American Brown Ale': 314,\n",
       " 'American Dark Wheat Ale': 14,\n",
       " 'American Double / Imperial IPA': 3886,\n",
       " 'American Double / Imperial Pilsner': 14,\n",
       " 'American Double / Imperial Stout': 5964,\n",
       " 'American IPA': 4113,\n",
       " 'American Malt Liquor': 90,\n",
       " 'American Pale Ale (APA)': 2288,\n",
       " 'American Pale Lager': 123,\n",
       " 'American Pale Wheat Ale': 154,\n",
       " 'American Porter': 2230,\n",
       " 'American Stout': 591,\n",
       " 'American Strong Ale': 166,\n",
       " 'American Wild Ale': 98,\n",
       " 'Baltic Porter': 514,\n",
       " 'Belgian Dark Ale': 175,\n",
       " 'Belgian IPA': 128,\n",
       " 'Belgian Pale Ale': 144,\n",
       " 'Belgian Strong Dark Ale': 146,\n",
       " 'Belgian Strong Pale Ale': 632,\n",
       " 'Berliner Weissbier': 10,\n",
       " 'BiÃ¨re de Garde': 7,\n",
       " 'Black & Tan': 122,\n",
       " 'Bock': 148,\n",
       " 'Braggot': 26,\n",
       " 'California Common / Steam Beer': 11,\n",
       " 'Chile Beer': 11,\n",
       " 'Cream Ale': 69,\n",
       " 'Czech Pilsener': 1501,\n",
       " 'Doppelbock': 873,\n",
       " 'Dortmunder / Export Lager': 31,\n",
       " 'Dubbel': 165,\n",
       " 'Dunkelweizen': 61,\n",
       " 'Eisbock': 8,\n",
       " 'English Barleywine': 133,\n",
       " 'English Bitter': 267,\n",
       " 'English Brown Ale': 495,\n",
       " 'English Dark Mild Ale': 21,\n",
       " 'English India Pale Ale (IPA)': 175,\n",
       " 'English Pale Ale': 1324,\n",
       " 'English Pale Mild Ale': 21,\n",
       " 'English Porter': 367,\n",
       " 'English Stout': 136,\n",
       " 'English Strong Ale': 164,\n",
       " 'Euro Dark Lager': 144,\n",
       " 'Euro Pale Lager': 701,\n",
       " 'Euro Strong Lager': 329,\n",
       " 'Extra Special / Strong Bitter (ESB)': 667,\n",
       " 'Flanders Oud Bruin': 13,\n",
       " 'Flanders Red Ale': 2,\n",
       " 'Foreign / Export Stout': 55,\n",
       " 'Fruit / Vegetable Beer': 1355,\n",
       " 'German Pilsener': 586,\n",
       " 'Hefeweizen': 618,\n",
       " 'Herbed / Spiced Beer': 73,\n",
       " 'Irish Dry Stout': 101,\n",
       " 'Irish Red Ale': 83,\n",
       " 'Keller Bier / Zwickel Bier': 23,\n",
       " 'Kristalweizen': 7,\n",
       " 'KÃ¶lsch': 94,\n",
       " 'Lambic - Fruit': 6,\n",
       " 'Lambic - Unblended': 10,\n",
       " 'Light Lager': 503,\n",
       " 'Low Alcohol Beer': 7,\n",
       " 'Maibock / Helles Bock': 225,\n",
       " 'Milk / Sweet Stout': 69,\n",
       " 'Munich Dunkel Lager': 141,\n",
       " 'Munich Helles Lager': 650,\n",
       " 'MÃ¤rzen / Oktoberfest': 557,\n",
       " 'Oatmeal Stout': 102,\n",
       " 'Old Ale': 1052,\n",
       " 'Pumpkin Ale': 560,\n",
       " 'Quadrupel (Quad)': 119,\n",
       " 'Rauchbier': 1938,\n",
       " 'Russian Imperial Stout': 2695,\n",
       " 'Rye Beer': 1798,\n",
       " 'Saison / Farmhouse Ale': 141,\n",
       " 'Schwarzbier': 53,\n",
       " 'Scotch Ale / Wee Heavy': 2776,\n",
       " 'Scottish Ale': 78,\n",
       " 'Scottish Gruit / Ancient Herbed Ale': 65,\n",
       " 'Smoked Beer': 61,\n",
       " 'Tripel': 257,\n",
       " 'Vienna Lager': 33,\n",
       " 'Weizenbock': 13,\n",
       " 'Wheatwine': 455,\n",
       " 'Winter Warmer': 259,\n",
       " 'Witbier': 162}"
      ]
     },
     "execution_count": 29,
     "metadata": {},
     "output_type": "execute_result"
    }
   ],
   "source": [
    "freq_styles "
   ]
  },
  {
   "cell_type": "markdown",
   "metadata": {},
   "source": [
    "avg value of `review/taste` for reviews from each style  "
   ]
  },
  {
   "cell_type": "code",
   "execution_count": 40,
   "metadata": {},
   "outputs": [],
   "source": [
    "def avgReview(dict):\n",
    "    total = dict()\n",
    "    freq = dict()\n",
    "    avg = dict()\n",
    "    for dict_ in data:\n",
    "        if dict_['beer/style'] not in total:\n",
    "            total[dict_['beer/style']] = 0\n",
    "            freq[dict_['beer/style']]  = 0\n",
    "            \n",
    "        total[dict_['beer/style']] += dict_['review/taste']\n",
    "        freq [dict_['beer/style']] += 1\n",
    "    for style in total:\n",
    "        avg[style] = round(total[style]/freq[style], 6)\n",
    "    return avg, freq"
   ]
  },
  {
   "cell_type": "code",
   "execution_count": 41,
   "metadata": {},
   "outputs": [],
   "source": [
    "avg ,freq = avgReview(dict)"
   ]
  },
  {
   "cell_type": "code",
   "execution_count": 42,
   "metadata": {},
   "outputs": [
    {
     "data": {
      "text/plain": [
       "{'Altbier': 3.40303,\n",
       " 'American Adjunct Lager': 2.948347,\n",
       " 'American Amber / Red Ale': 3.513534,\n",
       " 'American Amber / Red Lager': 3.690476,\n",
       " 'American Barleywine': 4.064242,\n",
       " 'American Black Ale': 3.873188,\n",
       " 'American Blonde Ale': 3.254902,\n",
       " 'American Brown Ale': 3.743631,\n",
       " 'American Dark Wheat Ale': 3.678571,\n",
       " 'American Double / Imperial IPA': 4.033325,\n",
       " 'American Double / Imperial Pilsner': 3.821429,\n",
       " 'American Double / Imperial Stout': 4.479963,\n",
       " 'American IPA': 4.000851,\n",
       " 'American Malt Liquor': 2.255556,\n",
       " 'American Pale Ale (APA)': 3.649694,\n",
       " 'American Pale Lager': 3.215447,\n",
       " 'American Pale Wheat Ale': 3.334416,\n",
       " 'American Porter': 4.081839,\n",
       " 'American Stout': 3.819797,\n",
       " 'American Strong Ale': 3.569277,\n",
       " 'American Wild Ale': 4.188776,\n",
       " 'Baltic Porter': 4.213035,\n",
       " 'Belgian Dark Ale': 3.34,\n",
       " 'Belgian IPA': 3.949219,\n",
       " 'Belgian Pale Ale': 3.739583,\n",
       " 'Belgian Strong Dark Ale': 3.695205,\n",
       " 'Belgian Strong Pale Ale': 4.056171,\n",
       " 'Berliner Weissbier': 3.55,\n",
       " 'BiÃ¨re de Garde': 3.928571,\n",
       " 'Black & Tan': 3.942623,\n",
       " 'Bock': 3.189189,\n",
       " 'Braggot': 3.807692,\n",
       " 'California Common / Steam Beer': 3.318182,\n",
       " 'Chile Beer': 3.954545,\n",
       " 'Cream Ale': 3.028986,\n",
       " 'Czech Pilsener': 3.609594,\n",
       " 'Doppelbock': 3.982818,\n",
       " 'Dortmunder / Export Lager': 3.419355,\n",
       " 'Dubbel': 3.736364,\n",
       " 'Dunkelweizen': 3.491803,\n",
       " 'Eisbock': 3.75,\n",
       " 'English Barleywine': 4.360902,\n",
       " 'English Bitter': 3.537453,\n",
       " 'English Brown Ale': 3.728283,\n",
       " 'English Dark Mild Ale': 3.785714,\n",
       " 'English India Pale Ale (IPA)': 3.471429,\n",
       " 'English Pale Ale': 3.483761,\n",
       " 'English Pale Mild Ale': 3.595238,\n",
       " 'English Porter': 3.707084,\n",
       " 'English Stout': 3.599265,\n",
       " 'English Strong Ale': 3.756098,\n",
       " 'Euro Dark Lager': 3.704861,\n",
       " 'Euro Pale Lager': 2.96291,\n",
       " 'Euro Strong Lager': 2.848024,\n",
       " 'Extra Special / Strong Bitter (ESB)': 3.685157,\n",
       " 'Flanders Oud Bruin': 3.923077,\n",
       " 'Flanders Red Ale': 3.25,\n",
       " 'Foreign / Export Stout': 3.254545,\n",
       " 'Fruit / Vegetable Beer': 3.607749,\n",
       " 'German Pilsener': 3.667235,\n",
       " 'Hefeweizen': 3.635113,\n",
       " 'Herbed / Spiced Beer': 3.445205,\n",
       " 'Irish Dry Stout': 3.623762,\n",
       " 'Irish Red Ale': 2.981928,\n",
       " 'Keller Bier / Zwickel Bier': 3.869565,\n",
       " 'Kristalweizen': 2.785714,\n",
       " 'KÃ¶lsch': 3.696809,\n",
       " 'Lambic - Fruit': 3.75,\n",
       " 'Lambic - Unblended': 3.3,\n",
       " 'Light Lager': 2.39662,\n",
       " 'Low Alcohol Beer': 2.714286,\n",
       " 'Maibock / Helles Bock': 3.746667,\n",
       " 'Milk / Sweet Stout': 3.782609,\n",
       " 'Munich Dunkel Lager': 3.780142,\n",
       " 'Munich Helles Lager': 3.959231,\n",
       " 'MÃ¤rzen / Oktoberfest': 3.593357,\n",
       " 'Oatmeal Stout': 3.77451,\n",
       " 'Old Ale': 4.096008,\n",
       " 'Pumpkin Ale': 3.7875,\n",
       " 'Quadrupel (Quad)': 3.596639,\n",
       " 'Rauchbier': 4.067853,\n",
       " 'Russian Imperial Stout': 4.300371,\n",
       " 'Rye Beer': 4.213571,\n",
       " 'Saison / Farmhouse Ale': 3.702128,\n",
       " 'Schwarzbier': 3.622642,\n",
       " 'Scotch Ale / Wee Heavy': 4.083393,\n",
       " 'Scottish Ale': 3.762821,\n",
       " 'Scottish Gruit / Ancient Herbed Ale': 3.907692,\n",
       " 'Smoked Beer': 3.196721,\n",
       " 'Tripel': 3.784047,\n",
       " 'Vienna Lager': 3.530303,\n",
       " 'Weizenbock': 3.384615,\n",
       " 'Wheatwine': 4.186813,\n",
       " 'Winter Warmer': 3.621622,\n",
       " 'Witbier': 3.527778}"
      ]
     },
     "execution_count": 42,
     "metadata": {},
     "output_type": "execute_result"
    }
   ],
   "source": [
    "avg"
   ]
  },
  {
   "cell_type": "code",
   "execution_count": 39,
   "metadata": {},
   "outputs": [
    {
     "data": {
      "text/plain": [
       "{'Altbier': 165,\n",
       " 'American Adjunct Lager': 242,\n",
       " 'American Amber / Red Ale': 665,\n",
       " 'American Amber / Red Lager': 42,\n",
       " 'American Barleywine': 825,\n",
       " 'American Black Ale': 138,\n",
       " 'American Blonde Ale': 357,\n",
       " 'American Brown Ale': 314,\n",
       " 'American Dark Wheat Ale': 14,\n",
       " 'American Double / Imperial IPA': 3886,\n",
       " 'American Double / Imperial Pilsner': 14,\n",
       " 'American Double / Imperial Stout': 5964,\n",
       " 'American IPA': 4113,\n",
       " 'American Malt Liquor': 90,\n",
       " 'American Pale Ale (APA)': 2288,\n",
       " 'American Pale Lager': 123,\n",
       " 'American Pale Wheat Ale': 154,\n",
       " 'American Porter': 2230,\n",
       " 'American Stout': 591,\n",
       " 'American Strong Ale': 166,\n",
       " 'American Wild Ale': 98,\n",
       " 'Baltic Porter': 514,\n",
       " 'Belgian Dark Ale': 175,\n",
       " 'Belgian IPA': 128,\n",
       " 'Belgian Pale Ale': 144,\n",
       " 'Belgian Strong Dark Ale': 146,\n",
       " 'Belgian Strong Pale Ale': 632,\n",
       " 'Berliner Weissbier': 10,\n",
       " 'BiÃ¨re de Garde': 7,\n",
       " 'Black & Tan': 122,\n",
       " 'Bock': 148,\n",
       " 'Braggot': 26,\n",
       " 'California Common / Steam Beer': 11,\n",
       " 'Chile Beer': 11,\n",
       " 'Cream Ale': 69,\n",
       " 'Czech Pilsener': 1501,\n",
       " 'Doppelbock': 873,\n",
       " 'Dortmunder / Export Lager': 31,\n",
       " 'Dubbel': 165,\n",
       " 'Dunkelweizen': 61,\n",
       " 'Eisbock': 8,\n",
       " 'English Barleywine': 133,\n",
       " 'English Bitter': 267,\n",
       " 'English Brown Ale': 495,\n",
       " 'English Dark Mild Ale': 21,\n",
       " 'English India Pale Ale (IPA)': 175,\n",
       " 'English Pale Ale': 1324,\n",
       " 'English Pale Mild Ale': 21,\n",
       " 'English Porter': 367,\n",
       " 'English Stout': 136,\n",
       " 'English Strong Ale': 164,\n",
       " 'Euro Dark Lager': 144,\n",
       " 'Euro Pale Lager': 701,\n",
       " 'Euro Strong Lager': 329,\n",
       " 'Extra Special / Strong Bitter (ESB)': 667,\n",
       " 'Flanders Oud Bruin': 13,\n",
       " 'Flanders Red Ale': 2,\n",
       " 'Foreign / Export Stout': 55,\n",
       " 'Fruit / Vegetable Beer': 1355,\n",
       " 'German Pilsener': 586,\n",
       " 'Hefeweizen': 618,\n",
       " 'Herbed / Spiced Beer': 73,\n",
       " 'Irish Dry Stout': 101,\n",
       " 'Irish Red Ale': 83,\n",
       " 'Keller Bier / Zwickel Bier': 23,\n",
       " 'Kristalweizen': 7,\n",
       " 'KÃ¶lsch': 94,\n",
       " 'Lambic - Fruit': 6,\n",
       " 'Lambic - Unblended': 10,\n",
       " 'Light Lager': 503,\n",
       " 'Low Alcohol Beer': 7,\n",
       " 'Maibock / Helles Bock': 225,\n",
       " 'Milk / Sweet Stout': 69,\n",
       " 'Munich Dunkel Lager': 141,\n",
       " 'Munich Helles Lager': 650,\n",
       " 'MÃ¤rzen / Oktoberfest': 557,\n",
       " 'Oatmeal Stout': 102,\n",
       " 'Old Ale': 1052,\n",
       " 'Pumpkin Ale': 560,\n",
       " 'Quadrupel (Quad)': 119,\n",
       " 'Rauchbier': 1938,\n",
       " 'Russian Imperial Stout': 2695,\n",
       " 'Rye Beer': 1798,\n",
       " 'Saison / Farmhouse Ale': 141,\n",
       " 'Schwarzbier': 53,\n",
       " 'Scotch Ale / Wee Heavy': 2776,\n",
       " 'Scottish Ale': 78,\n",
       " 'Scottish Gruit / Ancient Herbed Ale': 65,\n",
       " 'Smoked Beer': 61,\n",
       " 'Tripel': 257,\n",
       " 'Vienna Lager': 33,\n",
       " 'Weizenbock': 13,\n",
       " 'Wheatwine': 455,\n",
       " 'Winter Warmer': 259,\n",
       " 'Witbier': 162}"
      ]
     },
     "execution_count": 39,
     "metadata": {},
     "output_type": "execute_result"
    }
   ],
   "source": [
    "freq"
   ]
  },
  {
   "cell_type": "code",
   "execution_count": null,
   "metadata": {},
   "outputs": [],
   "source": []
  }
 ],
 "metadata": {
  "kernelspec": {
   "display_name": "Python [default]",
   "language": "python",
   "name": "python3"
  },
  "language_info": {
   "codemirror_mode": {
    "name": "ipython",
    "version": 3
   },
   "file_extension": ".py",
   "mimetype": "text/x-python",
   "name": "python",
   "nbconvert_exporter": "python",
   "pygments_lexer": "ipython3",
   "version": "3.5.5"
  }
 },
 "nbformat": 4,
 "nbformat_minor": 2
}
