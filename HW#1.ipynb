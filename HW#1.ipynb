{
 "cells": [
  {
   "cell_type": "markdown",
   "metadata": {},
   "source": [
    "# Importing libraries"
   ]
  },
  {
   "cell_type": "code",
   "execution_count": 58,
   "metadata": {},
   "outputs": [],
   "source": [
    "#importing libraries\n",
    "import pandas as pd\n",
    "import urllib.request \n",
    "import numpy as np\n",
    "import matplotlib.pyplot as plt\n",
    "import seaborn as sns\n",
    "import warnings\n",
    "warnings.filterwarnings('ignore')\n"
   ]
  },
  {
   "cell_type": "markdown",
   "metadata": {},
   "source": [
    "# Utility Functions"
   ]
  },
  {
   "cell_type": "code",
   "execution_count": 59,
   "metadata": {},
   "outputs": [],
   "source": [
    "#utility function for parsing JSONdata\n",
    "def parseData(fname):\n",
    "    for l in urllib.request.urlopen(fname):\n",
    "        yield eval(l)\n"
   ]
  },
  {
   "cell_type": "markdown",
   "metadata": {},
   "source": [
    "# Reading the Dataset and Exploring their Structure"
   ]
  },
  {
   "cell_type": "code",
   "execution_count": 60,
   "metadata": {},
   "outputs": [],
   "source": [
    "# loading and parsing JSONdata\n",
    "data  =list(parseData(\"http://jmcauley.ucsd.edu/cse255/data/beer/beer_50000.json\"))"
   ]
  },
  {
   "cell_type": "code",
   "execution_count": 61,
   "metadata": {},
   "outputs": [
    {
     "data": {
      "text/plain": [
       "list"
      ]
     },
     "execution_count": 61,
     "metadata": {},
     "output_type": "execute_result"
    }
   ],
   "source": [
    "type(data)"
   ]
  },
  {
   "cell_type": "code",
   "execution_count": 62,
   "metadata": {},
   "outputs": [],
   "source": [
    "df = pd.DataFrame(data)"
   ]
  },
  {
   "cell_type": "code",
   "execution_count": 63,
   "metadata": {},
   "outputs": [
    {
     "data": {
      "text/html": [
       "<div>\n",
       "<style scoped>\n",
       "    .dataframe tbody tr th:only-of-type {\n",
       "        vertical-align: middle;\n",
       "    }\n",
       "\n",
       "    .dataframe tbody tr th {\n",
       "        vertical-align: top;\n",
       "    }\n",
       "\n",
       "    .dataframe thead th {\n",
       "        text-align: right;\n",
       "    }\n",
       "</style>\n",
       "<table border=\"1\" class=\"dataframe\">\n",
       "  <thead>\n",
       "    <tr style=\"text-align: right;\">\n",
       "      <th></th>\n",
       "      <th>beer/ABV</th>\n",
       "      <th>beer/beerId</th>\n",
       "      <th>beer/brewerId</th>\n",
       "      <th>beer/name</th>\n",
       "      <th>beer/style</th>\n",
       "      <th>review/appearance</th>\n",
       "      <th>review/aroma</th>\n",
       "      <th>review/overall</th>\n",
       "      <th>review/palate</th>\n",
       "      <th>review/taste</th>\n",
       "      <th>review/text</th>\n",
       "      <th>review/timeStruct</th>\n",
       "      <th>review/timeUnix</th>\n",
       "      <th>user/ageInSeconds</th>\n",
       "      <th>user/birthdayRaw</th>\n",
       "      <th>user/birthdayUnix</th>\n",
       "      <th>user/gender</th>\n",
       "      <th>user/profileName</th>\n",
       "    </tr>\n",
       "  </thead>\n",
       "  <tbody>\n",
       "    <tr>\n",
       "      <th>0</th>\n",
       "      <td>5.0</td>\n",
       "      <td>47986</td>\n",
       "      <td>10325</td>\n",
       "      <td>Sausa Weizen</td>\n",
       "      <td>Hefeweizen</td>\n",
       "      <td>2.5</td>\n",
       "      <td>2.0</td>\n",
       "      <td>1.5</td>\n",
       "      <td>1.5</td>\n",
       "      <td>1.5</td>\n",
       "      <td>A lot of foam. But a lot.\\tIn the smell some b...</td>\n",
       "      <td>{'isdst': 0, 'wday': 0, 'mon': 2, 'hour': 20, ...</td>\n",
       "      <td>1234817823</td>\n",
       "      <td>NaN</td>\n",
       "      <td>NaN</td>\n",
       "      <td>NaN</td>\n",
       "      <td>NaN</td>\n",
       "      <td>stcules</td>\n",
       "    </tr>\n",
       "    <tr>\n",
       "      <th>1</th>\n",
       "      <td>6.2</td>\n",
       "      <td>48213</td>\n",
       "      <td>10325</td>\n",
       "      <td>Red Moon</td>\n",
       "      <td>English Strong Ale</td>\n",
       "      <td>3.0</td>\n",
       "      <td>2.5</td>\n",
       "      <td>3.0</td>\n",
       "      <td>3.0</td>\n",
       "      <td>3.0</td>\n",
       "      <td>Dark red color, light beige foam, average.\\tIn...</td>\n",
       "      <td>{'isdst': 0, 'wday': 6, 'mon': 3, 'hour': 13, ...</td>\n",
       "      <td>1235915097</td>\n",
       "      <td>NaN</td>\n",
       "      <td>NaN</td>\n",
       "      <td>NaN</td>\n",
       "      <td>NaN</td>\n",
       "      <td>stcules</td>\n",
       "    </tr>\n",
       "    <tr>\n",
       "      <th>2</th>\n",
       "      <td>6.5</td>\n",
       "      <td>48215</td>\n",
       "      <td>10325</td>\n",
       "      <td>Black Horse Black Beer</td>\n",
       "      <td>Foreign / Export Stout</td>\n",
       "      <td>3.0</td>\n",
       "      <td>2.5</td>\n",
       "      <td>3.0</td>\n",
       "      <td>3.0</td>\n",
       "      <td>3.0</td>\n",
       "      <td>Almost totally black. Beige foam, quite compac...</td>\n",
       "      <td>{'isdst': 0, 'wday': 6, 'mon': 3, 'hour': 14, ...</td>\n",
       "      <td>1235916604</td>\n",
       "      <td>NaN</td>\n",
       "      <td>NaN</td>\n",
       "      <td>NaN</td>\n",
       "      <td>NaN</td>\n",
       "      <td>stcules</td>\n",
       "    </tr>\n",
       "    <tr>\n",
       "      <th>3</th>\n",
       "      <td>5.0</td>\n",
       "      <td>47969</td>\n",
       "      <td>10325</td>\n",
       "      <td>Sausa Pils</td>\n",
       "      <td>German Pilsener</td>\n",
       "      <td>3.5</td>\n",
       "      <td>3.0</td>\n",
       "      <td>3.0</td>\n",
       "      <td>2.5</td>\n",
       "      <td>3.0</td>\n",
       "      <td>Golden yellow color. White, compact foam, quit...</td>\n",
       "      <td>{'isdst': 0, 'wday': 6, 'mon': 2, 'hour': 19, ...</td>\n",
       "      <td>1234725145</td>\n",
       "      <td>NaN</td>\n",
       "      <td>NaN</td>\n",
       "      <td>NaN</td>\n",
       "      <td>NaN</td>\n",
       "      <td>stcules</td>\n",
       "    </tr>\n",
       "    <tr>\n",
       "      <th>4</th>\n",
       "      <td>7.7</td>\n",
       "      <td>64883</td>\n",
       "      <td>1075</td>\n",
       "      <td>Cauldron DIPA</td>\n",
       "      <td>American Double / Imperial IPA</td>\n",
       "      <td>4.0</td>\n",
       "      <td>4.5</td>\n",
       "      <td>4.0</td>\n",
       "      <td>4.0</td>\n",
       "      <td>4.5</td>\n",
       "      <td>According to the website, the style for the Ca...</td>\n",
       "      <td>{'isdst': 0, 'wday': 3, 'mon': 12, 'hour': 18,...</td>\n",
       "      <td>1293735206</td>\n",
       "      <td>3.581417e+09</td>\n",
       "      <td>Jun 16, 1901</td>\n",
       "      <td>-2.163082e+09</td>\n",
       "      <td>Male</td>\n",
       "      <td>johnmichaelsen</td>\n",
       "    </tr>\n",
       "  </tbody>\n",
       "</table>\n",
       "</div>"
      ],
      "text/plain": [
       "   beer/ABV beer/beerId beer/brewerId               beer/name  \\\n",
       "0       5.0       47986         10325            Sausa Weizen   \n",
       "1       6.2       48213         10325                Red Moon   \n",
       "2       6.5       48215         10325  Black Horse Black Beer   \n",
       "3       5.0       47969         10325              Sausa Pils   \n",
       "4       7.7       64883          1075           Cauldron DIPA   \n",
       "\n",
       "                       beer/style  review/appearance  review/aroma  \\\n",
       "0                      Hefeweizen                2.5           2.0   \n",
       "1              English Strong Ale                3.0           2.5   \n",
       "2          Foreign / Export Stout                3.0           2.5   \n",
       "3                 German Pilsener                3.5           3.0   \n",
       "4  American Double / Imperial IPA                4.0           4.5   \n",
       "\n",
       "   review/overall  review/palate  review/taste  \\\n",
       "0             1.5            1.5           1.5   \n",
       "1             3.0            3.0           3.0   \n",
       "2             3.0            3.0           3.0   \n",
       "3             3.0            2.5           3.0   \n",
       "4             4.0            4.0           4.5   \n",
       "\n",
       "                                         review/text  \\\n",
       "0  A lot of foam. But a lot.\\tIn the smell some b...   \n",
       "1  Dark red color, light beige foam, average.\\tIn...   \n",
       "2  Almost totally black. Beige foam, quite compac...   \n",
       "3  Golden yellow color. White, compact foam, quit...   \n",
       "4  According to the website, the style for the Ca...   \n",
       "\n",
       "                                   review/timeStruct  review/timeUnix  \\\n",
       "0  {'isdst': 0, 'wday': 0, 'mon': 2, 'hour': 20, ...       1234817823   \n",
       "1  {'isdst': 0, 'wday': 6, 'mon': 3, 'hour': 13, ...       1235915097   \n",
       "2  {'isdst': 0, 'wday': 6, 'mon': 3, 'hour': 14, ...       1235916604   \n",
       "3  {'isdst': 0, 'wday': 6, 'mon': 2, 'hour': 19, ...       1234725145   \n",
       "4  {'isdst': 0, 'wday': 3, 'mon': 12, 'hour': 18,...       1293735206   \n",
       "\n",
       "   user/ageInSeconds user/birthdayRaw  user/birthdayUnix user/gender  \\\n",
       "0                NaN              NaN                NaN         NaN   \n",
       "1                NaN              NaN                NaN         NaN   \n",
       "2                NaN              NaN                NaN         NaN   \n",
       "3                NaN              NaN                NaN         NaN   \n",
       "4       3.581417e+09     Jun 16, 1901      -2.163082e+09        Male   \n",
       "\n",
       "  user/profileName  \n",
       "0          stcules  \n",
       "1          stcules  \n",
       "2          stcules  \n",
       "3          stcules  \n",
       "4   johnmichaelsen  "
      ]
     },
     "execution_count": 63,
     "metadata": {},
     "output_type": "execute_result"
    }
   ],
   "source": [
    "df.head()"
   ]
  },
  {
   "cell_type": "code",
   "execution_count": 64,
   "metadata": {},
   "outputs": [
    {
     "data": {
      "text/html": [
       "<div>\n",
       "<style scoped>\n",
       "    .dataframe tbody tr th:only-of-type {\n",
       "        vertical-align: middle;\n",
       "    }\n",
       "\n",
       "    .dataframe tbody tr th {\n",
       "        vertical-align: top;\n",
       "    }\n",
       "\n",
       "    .dataframe thead th {\n",
       "        text-align: right;\n",
       "    }\n",
       "</style>\n",
       "<table border=\"1\" class=\"dataframe\">\n",
       "  <thead>\n",
       "    <tr style=\"text-align: right;\">\n",
       "      <th></th>\n",
       "      <th>beer/ABV</th>\n",
       "      <th>review/appearance</th>\n",
       "      <th>review/aroma</th>\n",
       "      <th>review/overall</th>\n",
       "      <th>review/palate</th>\n",
       "      <th>review/taste</th>\n",
       "      <th>review/timeUnix</th>\n",
       "      <th>user/ageInSeconds</th>\n",
       "      <th>user/birthdayUnix</th>\n",
       "    </tr>\n",
       "  </thead>\n",
       "  <tbody>\n",
       "    <tr>\n",
       "      <th>count</th>\n",
       "      <td>50000.000000</td>\n",
       "      <td>50000.0000</td>\n",
       "      <td>50000.000000</td>\n",
       "      <td>50000.00000</td>\n",
       "      <td>50000.000000</td>\n",
       "      <td>50000.000000</td>\n",
       "      <td>5.000000e+04</td>\n",
       "      <td>1.047900e+04</td>\n",
       "      <td>1.047900e+04</td>\n",
       "    </tr>\n",
       "    <tr>\n",
       "      <th>mean</th>\n",
       "      <td>7.400287</td>\n",
       "      <td>3.8984</td>\n",
       "      <td>3.871520</td>\n",
       "      <td>3.88871</td>\n",
       "      <td>3.852670</td>\n",
       "      <td>3.922250</td>\n",
       "      <td>1.232761e+09</td>\n",
       "      <td>1.174785e+09</td>\n",
       "      <td>2.435502e+08</td>\n",
       "    </tr>\n",
       "    <tr>\n",
       "      <th>std</th>\n",
       "      <td>2.317491</td>\n",
       "      <td>0.5898</td>\n",
       "      <td>0.682541</td>\n",
       "      <td>0.70174</td>\n",
       "      <td>0.666309</td>\n",
       "      <td>0.716645</td>\n",
       "      <td>7.193478e+07</td>\n",
       "      <td>3.346479e+08</td>\n",
       "      <td>3.346479e+08</td>\n",
       "    </tr>\n",
       "    <tr>\n",
       "      <th>min</th>\n",
       "      <td>0.100000</td>\n",
       "      <td>0.0000</td>\n",
       "      <td>1.000000</td>\n",
       "      <td>0.00000</td>\n",
       "      <td>1.000000</td>\n",
       "      <td>1.000000</td>\n",
       "      <td>9.262944e+08</td>\n",
       "      <td>7.034366e+08</td>\n",
       "      <td>-2.208960e+09</td>\n",
       "    </tr>\n",
       "    <tr>\n",
       "      <th>25%</th>\n",
       "      <td>5.400000</td>\n",
       "      <td>3.5000</td>\n",
       "      <td>3.500000</td>\n",
       "      <td>3.50000</td>\n",
       "      <td>3.500000</td>\n",
       "      <td>3.500000</td>\n",
       "      <td>1.189388e+09</td>\n",
       "      <td>9.782714e+08</td>\n",
       "      <td>1.418508e+08</td>\n",
       "    </tr>\n",
       "    <tr>\n",
       "      <th>50%</th>\n",
       "      <td>6.900000</td>\n",
       "      <td>4.0000</td>\n",
       "      <td>4.000000</td>\n",
       "      <td>4.00000</td>\n",
       "      <td>4.000000</td>\n",
       "      <td>4.000000</td>\n",
       "      <td>1.248142e+09</td>\n",
       "      <td>1.100009e+09</td>\n",
       "      <td>3.183264e+08</td>\n",
       "    </tr>\n",
       "    <tr>\n",
       "      <th>75%</th>\n",
       "      <td>9.400000</td>\n",
       "      <td>4.5000</td>\n",
       "      <td>4.500000</td>\n",
       "      <td>4.50000</td>\n",
       "      <td>4.500000</td>\n",
       "      <td>4.500000</td>\n",
       "      <td>1.291320e+09</td>\n",
       "      <td>1.276485e+09</td>\n",
       "      <td>4.400640e+08</td>\n",
       "    </tr>\n",
       "    <tr>\n",
       "      <th>max</th>\n",
       "      <td>57.700000</td>\n",
       "      <td>5.0000</td>\n",
       "      <td>5.000000</td>\n",
       "      <td>5.00000</td>\n",
       "      <td>5.000000</td>\n",
       "      <td>5.000000</td>\n",
       "      <td>1.326267e+09</td>\n",
       "      <td>3.627295e+09</td>\n",
       "      <td>7.148988e+08</td>\n",
       "    </tr>\n",
       "  </tbody>\n",
       "</table>\n",
       "</div>"
      ],
      "text/plain": [
       "           beer/ABV  review/appearance  review/aroma  review/overall  \\\n",
       "count  50000.000000         50000.0000  50000.000000     50000.00000   \n",
       "mean       7.400287             3.8984      3.871520         3.88871   \n",
       "std        2.317491             0.5898      0.682541         0.70174   \n",
       "min        0.100000             0.0000      1.000000         0.00000   \n",
       "25%        5.400000             3.5000      3.500000         3.50000   \n",
       "50%        6.900000             4.0000      4.000000         4.00000   \n",
       "75%        9.400000             4.5000      4.500000         4.50000   \n",
       "max       57.700000             5.0000      5.000000         5.00000   \n",
       "\n",
       "       review/palate  review/taste  review/timeUnix  user/ageInSeconds  \\\n",
       "count   50000.000000  50000.000000     5.000000e+04       1.047900e+04   \n",
       "mean        3.852670      3.922250     1.232761e+09       1.174785e+09   \n",
       "std         0.666309      0.716645     7.193478e+07       3.346479e+08   \n",
       "min         1.000000      1.000000     9.262944e+08       7.034366e+08   \n",
       "25%         3.500000      3.500000     1.189388e+09       9.782714e+08   \n",
       "50%         4.000000      4.000000     1.248142e+09       1.100009e+09   \n",
       "75%         4.500000      4.500000     1.291320e+09       1.276485e+09   \n",
       "max         5.000000      5.000000     1.326267e+09       3.627295e+09   \n",
       "\n",
       "       user/birthdayUnix  \n",
       "count       1.047900e+04  \n",
       "mean        2.435502e+08  \n",
       "std         3.346479e+08  \n",
       "min        -2.208960e+09  \n",
       "25%         1.418508e+08  \n",
       "50%         3.183264e+08  \n",
       "75%         4.400640e+08  \n",
       "max         7.148988e+08  "
      ]
     },
     "execution_count": 64,
     "metadata": {},
     "output_type": "execute_result"
    }
   ],
   "source": [
    "df.describe()"
   ]
  },
  {
   "cell_type": "code",
   "execution_count": 65,
   "metadata": {},
   "outputs": [
    {
     "data": {
      "text/plain": [
       "Index(['beer/ABV', 'beer/beerId', 'beer/brewerId', 'beer/name', 'beer/style',\n",
       "       'review/appearance', 'review/aroma', 'review/overall', 'review/palate',\n",
       "       'review/taste', 'review/text', 'review/timeStruct', 'review/timeUnix',\n",
       "       'user/ageInSeconds', 'user/birthdayRaw', 'user/birthdayUnix',\n",
       "       'user/gender', 'user/profileName'],\n",
       "      dtype='object')"
      ]
     },
     "execution_count": 65,
     "metadata": {},
     "output_type": "execute_result"
    }
   ],
   "source": [
    "df.columns"
   ]
  },
  {
   "cell_type": "code",
   "execution_count": 66,
   "metadata": {},
   "outputs": [
    {
     "data": {
      "text/plain": [
       "(50000, 18)"
      ]
     },
     "execution_count": 66,
     "metadata": {},
     "output_type": "execute_result"
    }
   ],
   "source": [
    "df.shape"
   ]
  },
  {
   "cell_type": "code",
   "execution_count": 67,
   "metadata": {},
   "outputs": [
    {
     "name": "stdout",
     "output_type": "stream",
     "text": [
      "<class 'pandas.core.frame.DataFrame'>\n",
      "RangeIndex: 50000 entries, 0 to 49999\n",
      "Data columns (total 18 columns):\n",
      "beer/ABV             50000 non-null float64\n",
      "beer/beerId          50000 non-null object\n",
      "beer/brewerId        50000 non-null object\n",
      "beer/name            50000 non-null object\n",
      "beer/style           50000 non-null object\n",
      "review/appearance    50000 non-null float64\n",
      "review/aroma         50000 non-null float64\n",
      "review/overall       50000 non-null float64\n",
      "review/palate        50000 non-null float64\n",
      "review/taste         50000 non-null float64\n",
      "review/text          50000 non-null object\n",
      "review/timeStruct    50000 non-null object\n",
      "review/timeUnix      50000 non-null int64\n",
      "user/ageInSeconds    10479 non-null float64\n",
      "user/birthdayRaw     10479 non-null object\n",
      "user/birthdayUnix    10479 non-null float64\n",
      "user/gender          20403 non-null object\n",
      "user/profileName     50000 non-null object\n",
      "dtypes: float64(8), int64(1), object(9)\n",
      "memory usage: 6.9+ MB\n"
     ]
    }
   ],
   "source": [
    "df.info()"
   ]
  },
  {
   "cell_type": "code",
   "execution_count": 68,
   "metadata": {},
   "outputs": [],
   "source": [
    "#extracting categorical features\n",
    "categorical_features = df.select_dtypes(include=[np.object])"
   ]
  },
  {
   "cell_type": "code",
   "execution_count": 69,
   "metadata": {},
   "outputs": [
    {
     "data": {
      "text/plain": [
       "(50000, 9)"
      ]
     },
     "execution_count": 69,
     "metadata": {},
     "output_type": "execute_result"
    }
   ],
   "source": [
    "#shape of categorical data\n",
    "categorical_features.shape"
   ]
  },
  {
   "cell_type": "code",
   "execution_count": 70,
   "metadata": {},
   "outputs": [
    {
     "data": {
      "text/plain": [
       "Index(['beer/beerId', 'beer/brewerId', 'beer/name', 'beer/style',\n",
       "       'review/text', 'review/timeStruct', 'user/birthdayRaw', 'user/gender',\n",
       "       'user/profileName'],\n",
       "      dtype='object')"
      ]
     },
     "execution_count": 70,
     "metadata": {},
     "output_type": "execute_result"
    }
   ],
   "source": [
    "#columns having categorical data\n",
    "categorical_features.columns"
   ]
  },
  {
   "cell_type": "code",
   "execution_count": 71,
   "metadata": {},
   "outputs": [],
   "source": [
    "#extracting numeric features\n",
    "numeric_features = df.select_dtypes(include=[np.number])"
   ]
  },
  {
   "cell_type": "code",
   "execution_count": 72,
   "metadata": {},
   "outputs": [
    {
     "data": {
      "text/plain": [
       "(50000, 9)"
      ]
     },
     "execution_count": 72,
     "metadata": {},
     "output_type": "execute_result"
    }
   ],
   "source": [
    "#checking shape of numeric features\n",
    "numeric_features.shape"
   ]
  },
  {
   "cell_type": "code",
   "execution_count": 73,
   "metadata": {},
   "outputs": [
    {
     "data": {
      "text/plain": [
       "Index(['beer/ABV', 'review/appearance', 'review/aroma', 'review/overall',\n",
       "       'review/palate', 'review/taste', 'review/timeUnix', 'user/ageInSeconds',\n",
       "       'user/birthdayUnix'],\n",
       "      dtype='object')"
      ]
     },
     "execution_count": 73,
     "metadata": {},
     "output_type": "execute_result"
    }
   ],
   "source": [
    "#columns having numeric data\n",
    "numeric_features.columns"
   ]
  },
  {
   "cell_type": "code",
   "execution_count": 74,
   "metadata": {},
   "outputs": [
    {
     "data": {
      "text/html": [
       "<div>\n",
       "<style scoped>\n",
       "    .dataframe tbody tr th:only-of-type {\n",
       "        vertical-align: middle;\n",
       "    }\n",
       "\n",
       "    .dataframe tbody tr th {\n",
       "        vertical-align: top;\n",
       "    }\n",
       "\n",
       "    .dataframe thead th {\n",
       "        text-align: right;\n",
       "    }\n",
       "</style>\n",
       "<table border=\"1\" class=\"dataframe\">\n",
       "  <thead>\n",
       "    <tr style=\"text-align: right;\">\n",
       "      <th></th>\n",
       "      <th>beer/ABV</th>\n",
       "      <th>review/appearance</th>\n",
       "      <th>review/aroma</th>\n",
       "      <th>review/overall</th>\n",
       "      <th>review/palate</th>\n",
       "      <th>review/taste</th>\n",
       "      <th>review/timeUnix</th>\n",
       "      <th>user/ageInSeconds</th>\n",
       "      <th>user/birthdayUnix</th>\n",
       "    </tr>\n",
       "  </thead>\n",
       "  <tbody>\n",
       "    <tr>\n",
       "      <th>count</th>\n",
       "      <td>50000.000000</td>\n",
       "      <td>50000.0000</td>\n",
       "      <td>50000.000000</td>\n",
       "      <td>50000.00000</td>\n",
       "      <td>50000.000000</td>\n",
       "      <td>50000.000000</td>\n",
       "      <td>5.000000e+04</td>\n",
       "      <td>1.047900e+04</td>\n",
       "      <td>1.047900e+04</td>\n",
       "    </tr>\n",
       "    <tr>\n",
       "      <th>mean</th>\n",
       "      <td>7.400287</td>\n",
       "      <td>3.8984</td>\n",
       "      <td>3.871520</td>\n",
       "      <td>3.88871</td>\n",
       "      <td>3.852670</td>\n",
       "      <td>3.922250</td>\n",
       "      <td>1.232761e+09</td>\n",
       "      <td>1.174785e+09</td>\n",
       "      <td>2.435502e+08</td>\n",
       "    </tr>\n",
       "    <tr>\n",
       "      <th>std</th>\n",
       "      <td>2.317491</td>\n",
       "      <td>0.5898</td>\n",
       "      <td>0.682541</td>\n",
       "      <td>0.70174</td>\n",
       "      <td>0.666309</td>\n",
       "      <td>0.716645</td>\n",
       "      <td>7.193478e+07</td>\n",
       "      <td>3.346479e+08</td>\n",
       "      <td>3.346479e+08</td>\n",
       "    </tr>\n",
       "    <tr>\n",
       "      <th>min</th>\n",
       "      <td>0.100000</td>\n",
       "      <td>0.0000</td>\n",
       "      <td>1.000000</td>\n",
       "      <td>0.00000</td>\n",
       "      <td>1.000000</td>\n",
       "      <td>1.000000</td>\n",
       "      <td>9.262944e+08</td>\n",
       "      <td>7.034366e+08</td>\n",
       "      <td>-2.208960e+09</td>\n",
       "    </tr>\n",
       "    <tr>\n",
       "      <th>25%</th>\n",
       "      <td>5.400000</td>\n",
       "      <td>3.5000</td>\n",
       "      <td>3.500000</td>\n",
       "      <td>3.50000</td>\n",
       "      <td>3.500000</td>\n",
       "      <td>3.500000</td>\n",
       "      <td>1.189388e+09</td>\n",
       "      <td>9.782714e+08</td>\n",
       "      <td>1.418508e+08</td>\n",
       "    </tr>\n",
       "    <tr>\n",
       "      <th>50%</th>\n",
       "      <td>6.900000</td>\n",
       "      <td>4.0000</td>\n",
       "      <td>4.000000</td>\n",
       "      <td>4.00000</td>\n",
       "      <td>4.000000</td>\n",
       "      <td>4.000000</td>\n",
       "      <td>1.248142e+09</td>\n",
       "      <td>1.100009e+09</td>\n",
       "      <td>3.183264e+08</td>\n",
       "    </tr>\n",
       "    <tr>\n",
       "      <th>75%</th>\n",
       "      <td>9.400000</td>\n",
       "      <td>4.5000</td>\n",
       "      <td>4.500000</td>\n",
       "      <td>4.50000</td>\n",
       "      <td>4.500000</td>\n",
       "      <td>4.500000</td>\n",
       "      <td>1.291320e+09</td>\n",
       "      <td>1.276485e+09</td>\n",
       "      <td>4.400640e+08</td>\n",
       "    </tr>\n",
       "    <tr>\n",
       "      <th>max</th>\n",
       "      <td>57.700000</td>\n",
       "      <td>5.0000</td>\n",
       "      <td>5.000000</td>\n",
       "      <td>5.00000</td>\n",
       "      <td>5.000000</td>\n",
       "      <td>5.000000</td>\n",
       "      <td>1.326267e+09</td>\n",
       "      <td>3.627295e+09</td>\n",
       "      <td>7.148988e+08</td>\n",
       "    </tr>\n",
       "  </tbody>\n",
       "</table>\n",
       "</div>"
      ],
      "text/plain": [
       "           beer/ABV  review/appearance  review/aroma  review/overall  \\\n",
       "count  50000.000000         50000.0000  50000.000000     50000.00000   \n",
       "mean       7.400287             3.8984      3.871520         3.88871   \n",
       "std        2.317491             0.5898      0.682541         0.70174   \n",
       "min        0.100000             0.0000      1.000000         0.00000   \n",
       "25%        5.400000             3.5000      3.500000         3.50000   \n",
       "50%        6.900000             4.0000      4.000000         4.00000   \n",
       "75%        9.400000             4.5000      4.500000         4.50000   \n",
       "max       57.700000             5.0000      5.000000         5.00000   \n",
       "\n",
       "       review/palate  review/taste  review/timeUnix  user/ageInSeconds  \\\n",
       "count   50000.000000  50000.000000     5.000000e+04       1.047900e+04   \n",
       "mean        3.852670      3.922250     1.232761e+09       1.174785e+09   \n",
       "std         0.666309      0.716645     7.193478e+07       3.346479e+08   \n",
       "min         1.000000      1.000000     9.262944e+08       7.034366e+08   \n",
       "25%         3.500000      3.500000     1.189388e+09       9.782714e+08   \n",
       "50%         4.000000      4.000000     1.248142e+09       1.100009e+09   \n",
       "75%         4.500000      4.500000     1.291320e+09       1.276485e+09   \n",
       "max         5.000000      5.000000     1.326267e+09       3.627295e+09   \n",
       "\n",
       "       user/birthdayUnix  \n",
       "count       1.047900e+04  \n",
       "mean        2.435502e+08  \n",
       "std         3.346479e+08  \n",
       "min        -2.208960e+09  \n",
       "25%         1.418508e+08  \n",
       "50%         3.183264e+08  \n",
       "75%         4.400640e+08  \n",
       "max         7.148988e+08  "
      ]
     },
     "execution_count": 74,
     "metadata": {},
     "output_type": "execute_result"
    }
   ],
   "source": [
    "numeric_features.describe()"
   ]
  },
  {
   "cell_type": "markdown",
   "metadata": {},
   "source": [
    "numeric features are discrete in nature"
   ]
  },
  {
   "cell_type": "code",
   "execution_count": 75,
   "metadata": {},
   "outputs": [
    {
     "data": {
      "text/html": [
       "<div>\n",
       "<style scoped>\n",
       "    .dataframe tbody tr th:only-of-type {\n",
       "        vertical-align: middle;\n",
       "    }\n",
       "\n",
       "    .dataframe tbody tr th {\n",
       "        vertical-align: top;\n",
       "    }\n",
       "\n",
       "    .dataframe thead th {\n",
       "        text-align: right;\n",
       "    }\n",
       "</style>\n",
       "<table border=\"1\" class=\"dataframe\">\n",
       "  <thead>\n",
       "    <tr style=\"text-align: right;\">\n",
       "      <th></th>\n",
       "      <th>Total</th>\n",
       "      <th>Percent</th>\n",
       "    </tr>\n",
       "  </thead>\n",
       "  <tbody>\n",
       "    <tr>\n",
       "      <th>user/birthdayUnix</th>\n",
       "      <td>39521</td>\n",
       "      <td>0.79042</td>\n",
       "    </tr>\n",
       "    <tr>\n",
       "      <th>user/birthdayRaw</th>\n",
       "      <td>39521</td>\n",
       "      <td>0.79042</td>\n",
       "    </tr>\n",
       "    <tr>\n",
       "      <th>user/ageInSeconds</th>\n",
       "      <td>39521</td>\n",
       "      <td>0.79042</td>\n",
       "    </tr>\n",
       "    <tr>\n",
       "      <th>user/gender</th>\n",
       "      <td>29597</td>\n",
       "      <td>0.59194</td>\n",
       "    </tr>\n",
       "    <tr>\n",
       "      <th>user/profileName</th>\n",
       "      <td>0</td>\n",
       "      <td>0.00000</td>\n",
       "    </tr>\n",
       "    <tr>\n",
       "      <th>review/aroma</th>\n",
       "      <td>0</td>\n",
       "      <td>0.00000</td>\n",
       "    </tr>\n",
       "    <tr>\n",
       "      <th>beer/beerId</th>\n",
       "      <td>0</td>\n",
       "      <td>0.00000</td>\n",
       "    </tr>\n",
       "    <tr>\n",
       "      <th>beer/brewerId</th>\n",
       "      <td>0</td>\n",
       "      <td>0.00000</td>\n",
       "    </tr>\n",
       "    <tr>\n",
       "      <th>beer/name</th>\n",
       "      <td>0</td>\n",
       "      <td>0.00000</td>\n",
       "    </tr>\n",
       "    <tr>\n",
       "      <th>beer/style</th>\n",
       "      <td>0</td>\n",
       "      <td>0.00000</td>\n",
       "    </tr>\n",
       "    <tr>\n",
       "      <th>review/appearance</th>\n",
       "      <td>0</td>\n",
       "      <td>0.00000</td>\n",
       "    </tr>\n",
       "    <tr>\n",
       "      <th>review/palate</th>\n",
       "      <td>0</td>\n",
       "      <td>0.00000</td>\n",
       "    </tr>\n",
       "    <tr>\n",
       "      <th>review/overall</th>\n",
       "      <td>0</td>\n",
       "      <td>0.00000</td>\n",
       "    </tr>\n",
       "    <tr>\n",
       "      <th>review/taste</th>\n",
       "      <td>0</td>\n",
       "      <td>0.00000</td>\n",
       "    </tr>\n",
       "    <tr>\n",
       "      <th>review/text</th>\n",
       "      <td>0</td>\n",
       "      <td>0.00000</td>\n",
       "    </tr>\n",
       "    <tr>\n",
       "      <th>review/timeStruct</th>\n",
       "      <td>0</td>\n",
       "      <td>0.00000</td>\n",
       "    </tr>\n",
       "    <tr>\n",
       "      <th>review/timeUnix</th>\n",
       "      <td>0</td>\n",
       "      <td>0.00000</td>\n",
       "    </tr>\n",
       "    <tr>\n",
       "      <th>beer/ABV</th>\n",
       "      <td>0</td>\n",
       "      <td>0.00000</td>\n",
       "    </tr>\n",
       "  </tbody>\n",
       "</table>\n",
       "</div>"
      ],
      "text/plain": [
       "                   Total  Percent\n",
       "user/birthdayUnix  39521  0.79042\n",
       "user/birthdayRaw   39521  0.79042\n",
       "user/ageInSeconds  39521  0.79042\n",
       "user/gender        29597  0.59194\n",
       "user/profileName       0  0.00000\n",
       "review/aroma           0  0.00000\n",
       "beer/beerId            0  0.00000\n",
       "beer/brewerId          0  0.00000\n",
       "beer/name              0  0.00000\n",
       "beer/style             0  0.00000\n",
       "review/appearance      0  0.00000\n",
       "review/palate          0  0.00000\n",
       "review/overall         0  0.00000\n",
       "review/taste           0  0.00000\n",
       "review/text            0  0.00000\n",
       "review/timeStruct      0  0.00000\n",
       "review/timeUnix        0  0.00000\n",
       "beer/ABV               0  0.00000"
      ]
     },
     "execution_count": 75,
     "metadata": {},
     "output_type": "execute_result"
    }
   ],
   "source": [
    "#checking missing values in data\n",
    "null_values_per_col =  df.isnull().sum().sort_values(ascending = False)\n",
    "percent = ( df.isnull().sum()/df.isnull().count()).sort_values(ascending = False)\n",
    "missing_data = pd.concat([null_values_per_col, percent.astype(float)], axis = 1, keys =[\"Total\", \"Percent\"])\n",
    "missing_data.head(30)"
   ]
  },
  {
   "cell_type": "code",
   "execution_count": 76,
   "metadata": {},
   "outputs": [
    {
     "data": {
      "text/html": [
       "<div>\n",
       "<style scoped>\n",
       "    .dataframe tbody tr th:only-of-type {\n",
       "        vertical-align: middle;\n",
       "    }\n",
       "\n",
       "    .dataframe tbody tr th {\n",
       "        vertical-align: top;\n",
       "    }\n",
       "\n",
       "    .dataframe thead th {\n",
       "        text-align: right;\n",
       "    }\n",
       "</style>\n",
       "<table border=\"1\" class=\"dataframe\">\n",
       "  <thead>\n",
       "    <tr style=\"text-align: right;\">\n",
       "      <th></th>\n",
       "      <th>Total</th>\n",
       "      <th>Percent</th>\n",
       "    </tr>\n",
       "  </thead>\n",
       "  <tbody>\n",
       "    <tr>\n",
       "      <th>user/birthdayUnix</th>\n",
       "      <td>39521</td>\n",
       "      <td>0.79042</td>\n",
       "    </tr>\n",
       "    <tr>\n",
       "      <th>user/ageInSeconds</th>\n",
       "      <td>39521</td>\n",
       "      <td>0.79042</td>\n",
       "    </tr>\n",
       "    <tr>\n",
       "      <th>review/timeUnix</th>\n",
       "      <td>0</td>\n",
       "      <td>0.00000</td>\n",
       "    </tr>\n",
       "    <tr>\n",
       "      <th>review/taste</th>\n",
       "      <td>0</td>\n",
       "      <td>0.00000</td>\n",
       "    </tr>\n",
       "    <tr>\n",
       "      <th>review/palate</th>\n",
       "      <td>0</td>\n",
       "      <td>0.00000</td>\n",
       "    </tr>\n",
       "    <tr>\n",
       "      <th>review/overall</th>\n",
       "      <td>0</td>\n",
       "      <td>0.00000</td>\n",
       "    </tr>\n",
       "    <tr>\n",
       "      <th>review/aroma</th>\n",
       "      <td>0</td>\n",
       "      <td>0.00000</td>\n",
       "    </tr>\n",
       "    <tr>\n",
       "      <th>review/appearance</th>\n",
       "      <td>0</td>\n",
       "      <td>0.00000</td>\n",
       "    </tr>\n",
       "    <tr>\n",
       "      <th>beer/ABV</th>\n",
       "      <td>0</td>\n",
       "      <td>0.00000</td>\n",
       "    </tr>\n",
       "  </tbody>\n",
       "</table>\n",
       "</div>"
      ],
      "text/plain": [
       "                   Total  Percent\n",
       "user/birthdayUnix  39521  0.79042\n",
       "user/ageInSeconds  39521  0.79042\n",
       "review/timeUnix        0  0.00000\n",
       "review/taste           0  0.00000\n",
       "review/palate          0  0.00000\n",
       "review/overall         0  0.00000\n",
       "review/aroma           0  0.00000\n",
       "review/appearance      0  0.00000\n",
       "beer/ABV               0  0.00000"
      ]
     },
     "execution_count": 76,
     "metadata": {},
     "output_type": "execute_result"
    }
   ],
   "source": [
    "#checking missing values in numeric_features  \n",
    "null_values_per_col =  numeric_features.isnull().sum().sort_values(ascending = False)\n",
    "percent = ( numeric_features.isnull().sum()/numeric_features.isnull().count()).sort_values(ascending = False)\n",
    "missing_data = pd.concat([null_values_per_col, percent.astype(float)], axis = 1, keys =[\"Total\", \"Percent\"])\n",
    "missing_data.head(30)"
   ]
  },
  {
   "cell_type": "code",
   "execution_count": 77,
   "metadata": {},
   "outputs": [
    {
     "data": {
      "text/html": [
       "<div>\n",
       "<style scoped>\n",
       "    .dataframe tbody tr th:only-of-type {\n",
       "        vertical-align: middle;\n",
       "    }\n",
       "\n",
       "    .dataframe tbody tr th {\n",
       "        vertical-align: top;\n",
       "    }\n",
       "\n",
       "    .dataframe thead th {\n",
       "        text-align: right;\n",
       "    }\n",
       "</style>\n",
       "<table border=\"1\" class=\"dataframe\">\n",
       "  <thead>\n",
       "    <tr style=\"text-align: right;\">\n",
       "      <th></th>\n",
       "      <th>Total</th>\n",
       "      <th>Percent</th>\n",
       "    </tr>\n",
       "  </thead>\n",
       "  <tbody>\n",
       "    <tr>\n",
       "      <th>user/birthdayRaw</th>\n",
       "      <td>39521</td>\n",
       "      <td>0.79042</td>\n",
       "    </tr>\n",
       "    <tr>\n",
       "      <th>user/gender</th>\n",
       "      <td>29597</td>\n",
       "      <td>0.59194</td>\n",
       "    </tr>\n",
       "    <tr>\n",
       "      <th>user/profileName</th>\n",
       "      <td>0</td>\n",
       "      <td>0.00000</td>\n",
       "    </tr>\n",
       "    <tr>\n",
       "      <th>review/timeStruct</th>\n",
       "      <td>0</td>\n",
       "      <td>0.00000</td>\n",
       "    </tr>\n",
       "    <tr>\n",
       "      <th>review/text</th>\n",
       "      <td>0</td>\n",
       "      <td>0.00000</td>\n",
       "    </tr>\n",
       "    <tr>\n",
       "      <th>beer/style</th>\n",
       "      <td>0</td>\n",
       "      <td>0.00000</td>\n",
       "    </tr>\n",
       "    <tr>\n",
       "      <th>beer/name</th>\n",
       "      <td>0</td>\n",
       "      <td>0.00000</td>\n",
       "    </tr>\n",
       "    <tr>\n",
       "      <th>beer/brewerId</th>\n",
       "      <td>0</td>\n",
       "      <td>0.00000</td>\n",
       "    </tr>\n",
       "    <tr>\n",
       "      <th>beer/beerId</th>\n",
       "      <td>0</td>\n",
       "      <td>0.00000</td>\n",
       "    </tr>\n",
       "  </tbody>\n",
       "</table>\n",
       "</div>"
      ],
      "text/plain": [
       "                   Total  Percent\n",
       "user/birthdayRaw   39521  0.79042\n",
       "user/gender        29597  0.59194\n",
       "user/profileName       0  0.00000\n",
       "review/timeStruct      0  0.00000\n",
       "review/text            0  0.00000\n",
       "beer/style             0  0.00000\n",
       "beer/name              0  0.00000\n",
       "beer/brewerId          0  0.00000\n",
       "beer/beerId            0  0.00000"
      ]
     },
     "execution_count": 77,
     "metadata": {},
     "output_type": "execute_result"
    }
   ],
   "source": [
    "#checking missing values in categorical_features  \n",
    "null_values_per_col =  categorical_features.isnull().sum().sort_values(ascending = False)\n",
    "percent = ( categorical_features.isnull().sum()/categorical_features.isnull().count()).sort_values(ascending = False)\n",
    "missing_data = pd.concat([null_values_per_col, percent.astype(float)], axis = 1, keys =[\"Total\", \"Percent\"])\n",
    "missing_data.head(30)"
   ]
  },
  {
   "cell_type": "markdown",
   "metadata": {},
   "source": [
    "# 1. review/overall = α + β*year:"
   ]
  },
  {
   "cell_type": "code",
   "execution_count": 78,
   "metadata": {},
   "outputs": [
    {
     "data": {
      "text/plain": [
       "0    {'isdst': 0, 'wday': 0, 'mon': 2, 'hour': 20, ...\n",
       "1    {'isdst': 0, 'wday': 6, 'mon': 3, 'hour': 13, ...\n",
       "2    {'isdst': 0, 'wday': 6, 'mon': 3, 'hour': 14, ...\n",
       "3    {'isdst': 0, 'wday': 6, 'mon': 2, 'hour': 19, ...\n",
       "4    {'isdst': 0, 'wday': 3, 'mon': 12, 'hour': 18,...\n",
       "Name: review/timeStruct, dtype: object"
      ]
     },
     "execution_count": 78,
     "metadata": {},
     "output_type": "execute_result"
    }
   ],
   "source": [
    "#Let's check date of Manufacturing\n",
    "categorical_features[\"review/timeStruct\"].head()\n"
   ]
  },
  {
   "cell_type": "code",
   "execution_count": 79,
   "metadata": {},
   "outputs": [
    {
     "name": "stdout",
     "output_type": "stream",
     "text": [
      "<class 'pandas.core.series.Series'>\n"
     ]
    }
   ],
   "source": [
    "print(type(categorical_features[\"review/timeStruct\"]))"
   ]
  },
  {
   "cell_type": "markdown",
   "metadata": {},
   "source": [
    "Parsing a \"review/timeStruct\" dictionary in a pandas dataframe cell into new columns\n"
   ]
  },
  {
   "cell_type": "code",
   "execution_count": 80,
   "metadata": {},
   "outputs": [],
   "source": [
    "df1 = df[\"review/timeStruct\"].apply(pd.Series)\n",
    "df.drop([\"review/timeStruct\"], axis=1, inplace=True)"
   ]
  },
  {
   "cell_type": "code",
   "execution_count": 81,
   "metadata": {},
   "outputs": [
    {
     "data": {
      "text/plain": [
       "(50000, 17)"
      ]
     },
     "execution_count": 81,
     "metadata": {},
     "output_type": "execute_result"
    }
   ],
   "source": [
    "df.shape"
   ]
  },
  {
   "cell_type": "code",
   "execution_count": 83,
   "metadata": {},
   "outputs": [
    {
     "data": {
      "text/html": [
       "<div>\n",
       "<style scoped>\n",
       "    .dataframe tbody tr th:only-of-type {\n",
       "        vertical-align: middle;\n",
       "    }\n",
       "\n",
       "    .dataframe tbody tr th {\n",
       "        vertical-align: top;\n",
       "    }\n",
       "\n",
       "    .dataframe thead th {\n",
       "        text-align: right;\n",
       "    }\n",
       "</style>\n",
       "<table border=\"1\" class=\"dataframe\">\n",
       "  <thead>\n",
       "    <tr style=\"text-align: right;\">\n",
       "      <th></th>\n",
       "      <th>hour</th>\n",
       "      <th>isdst</th>\n",
       "      <th>mday</th>\n",
       "      <th>min</th>\n",
       "      <th>mon</th>\n",
       "      <th>sec</th>\n",
       "      <th>wday</th>\n",
       "      <th>yday</th>\n",
       "      <th>year</th>\n",
       "    </tr>\n",
       "  </thead>\n",
       "  <tbody>\n",
       "    <tr>\n",
       "      <th>0</th>\n",
       "      <td>20</td>\n",
       "      <td>0</td>\n",
       "      <td>16</td>\n",
       "      <td>57</td>\n",
       "      <td>2</td>\n",
       "      <td>3</td>\n",
       "      <td>0</td>\n",
       "      <td>47</td>\n",
       "      <td>2009</td>\n",
       "    </tr>\n",
       "    <tr>\n",
       "      <th>1</th>\n",
       "      <td>13</td>\n",
       "      <td>0</td>\n",
       "      <td>1</td>\n",
       "      <td>44</td>\n",
       "      <td>3</td>\n",
       "      <td>57</td>\n",
       "      <td>6</td>\n",
       "      <td>60</td>\n",
       "      <td>2009</td>\n",
       "    </tr>\n",
       "    <tr>\n",
       "      <th>2</th>\n",
       "      <td>14</td>\n",
       "      <td>0</td>\n",
       "      <td>1</td>\n",
       "      <td>10</td>\n",
       "      <td>3</td>\n",
       "      <td>4</td>\n",
       "      <td>6</td>\n",
       "      <td>60</td>\n",
       "      <td>2009</td>\n",
       "    </tr>\n",
       "    <tr>\n",
       "      <th>3</th>\n",
       "      <td>19</td>\n",
       "      <td>0</td>\n",
       "      <td>15</td>\n",
       "      <td>12</td>\n",
       "      <td>2</td>\n",
       "      <td>25</td>\n",
       "      <td>6</td>\n",
       "      <td>46</td>\n",
       "      <td>2009</td>\n",
       "    </tr>\n",
       "    <tr>\n",
       "      <th>4</th>\n",
       "      <td>18</td>\n",
       "      <td>0</td>\n",
       "      <td>30</td>\n",
       "      <td>53</td>\n",
       "      <td>12</td>\n",
       "      <td>26</td>\n",
       "      <td>3</td>\n",
       "      <td>364</td>\n",
       "      <td>2010</td>\n",
       "    </tr>\n",
       "  </tbody>\n",
       "</table>\n",
       "</div>"
      ],
      "text/plain": [
       "   hour  isdst  mday  min  mon  sec  wday  yday  year\n",
       "0    20      0    16   57    2    3     0    47  2009\n",
       "1    13      0     1   44    3   57     6    60  2009\n",
       "2    14      0     1   10    3    4     6    60  2009\n",
       "3    19      0    15   12    2   25     6    46  2009\n",
       "4    18      0    30   53   12   26     3   364  2010"
      ]
     },
     "execution_count": 83,
     "metadata": {},
     "output_type": "execute_result"
    }
   ],
   "source": [
    "df1.head()"
   ]
  },
  {
   "cell_type": "code",
   "execution_count": 84,
   "metadata": {},
   "outputs": [],
   "source": [
    "df = pd.concat([df, df1], axis=1)"
   ]
  },
  {
   "cell_type": "code",
   "execution_count": 85,
   "metadata": {},
   "outputs": [
    {
     "data": {
      "text/plain": [
       "(50000, 26)"
      ]
     },
     "execution_count": 85,
     "metadata": {},
     "output_type": "execute_result"
    }
   ],
   "source": [
    "df.shape"
   ]
  },
  {
   "cell_type": "markdown",
   "metadata": {},
   "source": [
    " Modelling"
   ]
  },
  {
   "cell_type": "code",
   "execution_count": 86,
   "metadata": {},
   "outputs": [
    {
     "data": {
      "text/plain": [
       "LinearRegression(copy_X=True, fit_intercept=True, n_jobs=1, normalize=False)"
      ]
     },
     "execution_count": 86,
     "metadata": {},
     "output_type": "execute_result"
    }
   ],
   "source": [
    "from sklearn.linear_model import LinearRegression\n",
    "regressor = LinearRegression()\n",
    "regressor.fit(df['year'].reshape(-1, 1), df['review/overall'])"
   ]
  },
  {
   "cell_type": "code",
   "execution_count": 87,
   "metadata": {
    "scrolled": true
   },
   "outputs": [
    {
     "data": {
      "image/png": "[encoded data removed]",
      "text/plain": [
       "<Figure size 432x288 with 1 Axes>"
      ]
     },
     "metadata": {},
     "output_type": "display_data"
    }
   ],
   "source": [
    "# Visualising the Linear Regression results\n",
    "plt.scatter(df['year'].reshape(-1, 1), df['review/overall'], color = 'red')\n",
    "plt.plot(df['year'].reshape(-1, 1), regressor.predict(df['year'].reshape(-1, 1)), color = 'blue')\n",
    "plt.title('Linear Regression')\n",
    "plt.xlabel('year')\n",
    "plt.ylabel('review/overall')\n",
    "plt.show()\n",
    "\n"
   ]
  },
  {
   "cell_type": "markdown",
   "metadata": {},
   "source": [
    "review/overall =  α + β*year:"
   ]
  },
  {
   "cell_type": "code",
   "execution_count": 88,
   "metadata": {},
   "outputs": [
    {
     "name": "stdout",
     "output_type": "stream",
     "text": [
      "[0.02143798]\n"
     ]
    }
   ],
   "source": [
    "β = regressor.coef_\n",
    "print(β)"
   ]
  },
  {
   "cell_type": "code",
   "execution_count": 89,
   "metadata": {},
   "outputs": [
    {
     "name": "stdout",
     "output_type": "stream",
     "text": [
      "-39.1707489364172\n"
     ]
    }
   ],
   "source": [
    "#intercept of regression line \n",
    "α = regressor.intercept_\n",
    "print(α)"
   ]
  }
 ],
 "metadata": {
  "kernelspec": {
   "display_name": "Python [default]",
   "language": "python",
   "name": "python3"
  },
  "language_info": {
   "codemirror_mode": {
    "name": "ipython",
    "version": 3
   },
   "file_extension": ".py",
   "mimetype": "text/x-python",
   "name": "python",
   "nbconvert_exporter": "python",
   "pygments_lexer": "ipython3",
   "version": "3.5.5"
  }
 },
 "nbformat": 4,
 "nbformat_minor": 2
}
